{
 "cells": [
  {
   "cell_type": "code",
   "execution_count": 1,
   "metadata": {},
   "outputs": [],
   "source": [
    "import pandas as pd\n",
    "import joblib"
   ]
  },
  {
   "cell_type": "code",
   "execution_count": 2,
   "metadata": {},
   "outputs": [],
   "source": [
    "# Importando funções locais\n",
    "import sys\n",
    "import os\n",
    "\n",
    "# Adiciona o caminho da pasta 'scripts' ao sys.path\n",
    "sys.path.append(os.path.abspath('../pipelines'))\n",
    "from model_trainer import train_and_save_model, predict_and_recommend"
   ]
  },
  {
   "cell_type": "code",
   "execution_count": 3,
   "metadata": {},
   "outputs": [],
   "source": [
    "# Carregar o modelo treinado e o LabelEncoder\n",
    "pipeline = joblib.load('../models/modelo_treinado.pkl')\n",
    "label_encoder = joblib.load('../models/preprocessador.pkl')"
   ]
  },
  {
   "cell_type": "code",
   "execution_count": 5,
   "metadata": {},
   "outputs": [],
   "source": [
    "materiais = ['SUZMA2019', 'SUZMA2025', 'VE41', 'SUZA0562', 'CO1407', 'CO1355',\n",
    "       'SUZA1265', 'SUZA0385', 'AEC0144', 'PESQUISA', 'SUZA1253',\n",
    "       'BA6021', 'SUZA1250', 'MA3833', 'SUZA0407', 'SUZA1981', 'AMC08',\n",
    "       'SUZBA1922', 'AEC0043', 'CO0321', 'EUR', 'SUZA0217', 'SUZA1099',\n",
    "       'SUZBA1083', 'SUZMA2049', 'SUZA1958', 'BHNPEL011', 'SUZA0540',\n",
    "       'SUZSP1002', 'SUZA1135', 'SUZA1712', 'SUZA1705', 'AEC1528',\n",
    "       'BHN0003', 'EPE', 'QGS0149', 'QGS0155', 'AEC0042', 'SUZMA2022',\n",
    "       'VCC975', 'GG100', 'SUZMA2003']"
   ]
  },
  {
   "cell_type": "code",
   "execution_count": 25,
   "metadata": {},
   "outputs": [],
   "source": [
    "# Carregar novos dados\n",
    "new_data = pd.DataFrame({\n",
    "    'Região': ['PA'],\n",
    "    'Altitude': [400],\n",
    "    'arv/ha': [800],\n",
    "    'Id Floresta': [8],\n",
    "    'Manejo Atual': ['REFORMA'],\n",
    "    'Zona Climática': ['M8'],\n",
    "    })"
   ]
  },
  {
   "cell_type": "code",
   "execution_count": 26,
   "metadata": {},
   "outputs": [
    {
     "data": {
      "text/html": [
       "<div>\n",
       "<style scoped>\n",
       "    .dataframe tbody tr th:only-of-type {\n",
       "        vertical-align: middle;\n",
       "    }\n",
       "\n",
       "    .dataframe tbody tr th {\n",
       "        vertical-align: top;\n",
       "    }\n",
       "\n",
       "    .dataframe thead th {\n",
       "        text-align: right;\n",
       "    }\n",
       "</style>\n",
       "<table border=\"1\" class=\"dataframe\">\n",
       "  <thead>\n",
       "    <tr style=\"text-align: right;\">\n",
       "      <th></th>\n",
       "      <th>Material Genético</th>\n",
       "      <th>Produtividade Prevista</th>\n",
       "    </tr>\n",
       "  </thead>\n",
       "  <tbody>\n",
       "    <tr>\n",
       "      <th>7</th>\n",
       "      <td>SUZA0385</td>\n",
       "      <td>211.268754</td>\n",
       "    </tr>\n",
       "    <tr>\n",
       "      <th>35</th>\n",
       "      <td>QGS0149</td>\n",
       "      <td>209.326709</td>\n",
       "    </tr>\n",
       "    <tr>\n",
       "      <th>0</th>\n",
       "      <td>SUZMA2019</td>\n",
       "      <td>207.755742</td>\n",
       "    </tr>\n",
       "  </tbody>\n",
       "</table>\n",
       "</div>"
      ],
      "text/plain": [
       "   Material Genético  Produtividade Prevista\n",
       "7           SUZA0385              211.268754\n",
       "35           QGS0149              209.326709\n",
       "0          SUZMA2019              207.755742"
      ]
     },
     "execution_count": 26,
     "metadata": {},
     "output_type": "execute_result"
    }
   ],
   "source": [
    "resultado = predict_and_recommend(pipeline_path='../models/modelo_treinado.pkl', preprocessor_path='../models/preprocessador.pkl', new_data=new_data, genetic_materials=materiais)\n",
    "resultado"
   ]
  }
 ],
 "metadata": {
  "kernelspec": {
   "display_name": "venv",
   "language": "python",
   "name": "python3"
  },
  "language_info": {
   "codemirror_mode": {
    "name": "ipython",
    "version": 3
   },
   "file_extension": ".py",
   "mimetype": "text/x-python",
   "name": "python",
   "nbconvert_exporter": "python",
   "pygments_lexer": "ipython3",
   "version": "3.11.5"
  }
 },
 "nbformat": 4,
 "nbformat_minor": 2
}
