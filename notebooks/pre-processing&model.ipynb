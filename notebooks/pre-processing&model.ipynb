{
 "cells": [
  {
   "cell_type": "markdown",
   "metadata": {},
   "source": [
    "## <center> Pré-processamento"
   ]
  },
  {
   "cell_type": "markdown",
   "metadata": {},
   "source": [
    "### Importando Bibliotecas"
   ]
  },
  {
   "cell_type": "code",
   "execution_count": 1,
   "metadata": {},
   "outputs": [],
   "source": [
    "from sklearn.preprocessing import MinMaxScaler, OneHotEncoder\n",
    "from sklearn.model_selection import train_test_split   \n",
    "from sklearn.ensemble import RandomForestClassifier\n",
    "from sklearn.preprocessing import StandardScaler\n",
    "from sklearn.tree import DecisionTreeClassifier\n",
    "from sklearn.compose import ColumnTransformer\n",
    "from category_encoders import OneHotEncoder\n",
    "from sklearn.pipeline import Pipeline\n",
    "from sqlalchemy import create_engine\n",
    "import matplotlib.pyplot as plt\n",
    "import seaborn as sns\n",
    "import pandas as pd\n",
    "import numpy as np"
   ]
  },
  {
   "cell_type": "code",
   "execution_count": 2,
   "metadata": {},
   "outputs": [
    {
     "data": {
      "text/plain": [
       "'c:\\\\Users\\\\JPCONCEICAO\\\\OneDrive - Suzano S A\\\\Coding\\\\PROJETO_RECOMENDADOR_CLONAL\\\\notebooks'"
      ]
     },
     "execution_count": 2,
     "metadata": {},
     "output_type": "execute_result"
    }
   ],
   "source": [
    "import os\n",
    "os.getcwd()"
   ]
  },
  {
   "cell_type": "code",
   "execution_count": 4,
   "metadata": {},
   "outputs": [],
   "source": [
    "# Importando funções locais\n",
    "import sys\n",
    "import os\n",
    "\n",
    "# Adiciona o caminho da pasta 'scripts' ao sys.path\n",
    "sys.path.append(os.path.abspath('../pipelines'))\n",
    "\n",
    "from pre_processor import OutlierRemoverIQR\n",
    "from model_trainer import train_and_save_model, predict_and_decode\n",
    "import pre_processor #Funções locais"
   ]
  },
  {
   "cell_type": "markdown",
   "metadata": {},
   "source": [
    "### Importando dados"
   ]
  },
  {
   "cell_type": "markdown",
   "metadata": {},
   "source": [
    "Listando as tabelas dentro do .db"
   ]
  },
  {
   "cell_type": "code",
   "execution_count": 5,
   "metadata": {},
   "outputs": [
    {
     "name": "stdout",
     "output_type": "stream",
     "text": [
      "df_prod\n"
     ]
    }
   ],
   "source": [
    "from sqlalchemy import create_engine, inspect\n",
    "\n",
    "# Localizando o banco de dados\n",
    "caminho_arquivo_db = '..\\\\data\\\\pre_processed\\\\pos_eda.db'\n",
    "\n",
    "# Criando a engine\n",
    "engine = create_engine(f'sqlite:///{caminho_arquivo_db}')\n",
    "\n",
    "# Criando um inspetor\n",
    "inspetor = inspect(engine)\n",
    "\n",
    "# Listando os nomes das tabelas\n",
    "tabelas = inspetor.get_table_names()\n",
    "\n",
    "# Exibindo os nomes das tabelas\n",
    "for tabela in tabelas:\n",
    "    print(tabela)"
   ]
  },
  {
   "cell_type": "code",
   "execution_count": 6,
   "metadata": {},
   "outputs": [],
   "source": [
    "# Carregando as tabelas em DataFrames\n",
    "df = pd.read_sql('df_prod', con=engine)\n",
    "# Converter cada nome de coluna para string - Necessário futuramente para as pipelines\n",
    "df.columns = [str(col) for col in df.columns]"
   ]
  },
  {
   "cell_type": "code",
   "execution_count": 7,
   "metadata": {},
   "outputs": [],
   "source": [
    "df.drop(columns=['index'], inplace=True)"
   ]
  },
  {
   "cell_type": "code",
   "execution_count": 8,
   "metadata": {},
   "outputs": [
    {
     "data": {
      "text/html": [
       "<div>\n",
       "<style scoped>\n",
       "    .dataframe tbody tr th:only-of-type {\n",
       "        vertical-align: middle;\n",
       "    }\n",
       "\n",
       "    .dataframe tbody tr th {\n",
       "        vertical-align: top;\n",
       "    }\n",
       "\n",
       "    .dataframe thead th {\n",
       "        text-align: right;\n",
       "    }\n",
       "</style>\n",
       "<table border=\"1\" class=\"dataframe\">\n",
       "  <thead>\n",
       "    <tr style=\"text-align: right;\">\n",
       "      <th></th>\n",
       "      <th>Região</th>\n",
       "      <th>Material Genético</th>\n",
       "      <th>Altitude</th>\n",
       "      <th>Espaçamento</th>\n",
       "      <th>Id Floresta</th>\n",
       "      <th>Manejo Atual</th>\n",
       "      <th>Zona Climática</th>\n",
       "      <th>avg_vol/ha</th>\n",
       "    </tr>\n",
       "  </thead>\n",
       "  <tbody>\n",
       "    <tr>\n",
       "      <th>0</th>\n",
       "      <td>MA</td>\n",
       "      <td>SUZMA2019</td>\n",
       "      <td>212.0</td>\n",
       "      <td>INDEFINIDO</td>\n",
       "      <td>5.79</td>\n",
       "      <td>REFORMA</td>\n",
       "      <td>M5</td>\n",
       "      <td>116.418876</td>\n",
       "    </tr>\n",
       "    <tr>\n",
       "      <th>1</th>\n",
       "      <td>MA</td>\n",
       "      <td>SUZMA2019</td>\n",
       "      <td>208.0</td>\n",
       "      <td>300X330</td>\n",
       "      <td>5.70</td>\n",
       "      <td>CONDUÇÃO</td>\n",
       "      <td>M5</td>\n",
       "      <td>99.761027</td>\n",
       "    </tr>\n",
       "    <tr>\n",
       "      <th>2</th>\n",
       "      <td>MA</td>\n",
       "      <td>SUZMA2019</td>\n",
       "      <td>187.0</td>\n",
       "      <td>300X330</td>\n",
       "      <td>5.70</td>\n",
       "      <td>CONDUÇÃO</td>\n",
       "      <td>M5</td>\n",
       "      <td>91.788245</td>\n",
       "    </tr>\n",
       "    <tr>\n",
       "      <th>3</th>\n",
       "      <td>MA</td>\n",
       "      <td>SUZMA2019</td>\n",
       "      <td>218.0</td>\n",
       "      <td>300X330</td>\n",
       "      <td>5.02</td>\n",
       "      <td>CONDUÇÃO</td>\n",
       "      <td>M5</td>\n",
       "      <td>121.690072</td>\n",
       "    </tr>\n",
       "    <tr>\n",
       "      <th>4</th>\n",
       "      <td>MA</td>\n",
       "      <td>SUZMA2025</td>\n",
       "      <td>232.0</td>\n",
       "      <td>300X330</td>\n",
       "      <td>5.03</td>\n",
       "      <td>CONDUÇÃO</td>\n",
       "      <td>M5</td>\n",
       "      <td>129.941341</td>\n",
       "    </tr>\n",
       "  </tbody>\n",
       "</table>\n",
       "</div>"
      ],
      "text/plain": [
       "  Região Material Genético  Altitude Espaçamento  Id Floresta Manejo Atual  \\\n",
       "0     MA         SUZMA2019     212.0  INDEFINIDO         5.79      REFORMA   \n",
       "1     MA         SUZMA2019     208.0     300X330         5.70     CONDUÇÃO   \n",
       "2     MA         SUZMA2019     187.0     300X330         5.70     CONDUÇÃO   \n",
       "3     MA         SUZMA2019     218.0     300X330         5.02     CONDUÇÃO   \n",
       "4     MA         SUZMA2025     232.0     300X330         5.03     CONDUÇÃO   \n",
       "\n",
       "  Zona Climática  avg_vol/ha  \n",
       "0             M5  116.418876  \n",
       "1             M5   99.761027  \n",
       "2             M5   91.788245  \n",
       "3             M5  121.690072  \n",
       "4             M5  129.941341  "
      ]
     },
     "execution_count": 8,
     "metadata": {},
     "output_type": "execute_result"
    }
   ],
   "source": [
    "df.head()"
   ]
  },
  {
   "cell_type": "markdown",
   "metadata": {},
   "source": [
    "Feature Engineering p.II"
   ]
  },
  {
   "cell_type": "code",
   "execution_count": 9,
   "metadata": {},
   "outputs": [],
   "source": [
    "# Transformando coluna de espaçamento para Nº de Arv/Ha\n",
    "# Considerações, caso haja erro, considerar a moda (espaçamento mais comum)\n",
    "pre_processor.calcular_arvores_por_ha(df, 'Espaçamento')"
   ]
  },
  {
   "cell_type": "code",
   "execution_count": 10,
   "metadata": {},
   "outputs": [
    {
     "data": {
      "text/html": [
       "<div>\n",
       "<style scoped>\n",
       "    .dataframe tbody tr th:only-of-type {\n",
       "        vertical-align: middle;\n",
       "    }\n",
       "\n",
       "    .dataframe tbody tr th {\n",
       "        vertical-align: top;\n",
       "    }\n",
       "\n",
       "    .dataframe thead th {\n",
       "        text-align: right;\n",
       "    }\n",
       "</style>\n",
       "<table border=\"1\" class=\"dataframe\">\n",
       "  <thead>\n",
       "    <tr style=\"text-align: right;\">\n",
       "      <th></th>\n",
       "      <th>Região</th>\n",
       "      <th>Material Genético</th>\n",
       "      <th>Altitude</th>\n",
       "      <th>arv/ha</th>\n",
       "      <th>Id Floresta</th>\n",
       "      <th>Manejo Atual</th>\n",
       "      <th>Zona Climática</th>\n",
       "      <th>avg_vol/ha</th>\n",
       "    </tr>\n",
       "  </thead>\n",
       "  <tbody>\n",
       "    <tr>\n",
       "      <th>0</th>\n",
       "      <td>MA</td>\n",
       "      <td>SUZMA2019</td>\n",
       "      <td>212.0</td>\n",
       "      <td>1111</td>\n",
       "      <td>5.79</td>\n",
       "      <td>REFORMA</td>\n",
       "      <td>M5</td>\n",
       "      <td>116.418876</td>\n",
       "    </tr>\n",
       "    <tr>\n",
       "      <th>1</th>\n",
       "      <td>MA</td>\n",
       "      <td>SUZMA2019</td>\n",
       "      <td>208.0</td>\n",
       "      <td>1111</td>\n",
       "      <td>5.70</td>\n",
       "      <td>CONDUÇÃO</td>\n",
       "      <td>M5</td>\n",
       "      <td>99.761027</td>\n",
       "    </tr>\n",
       "  </tbody>\n",
       "</table>\n",
       "</div>"
      ],
      "text/plain": [
       "  Região Material Genético  Altitude  arv/ha  Id Floresta Manejo Atual  \\\n",
       "0     MA         SUZMA2019     212.0    1111         5.79      REFORMA   \n",
       "1     MA         SUZMA2019     208.0    1111         5.70     CONDUÇÃO   \n",
       "\n",
       "  Zona Climática  avg_vol/ha  \n",
       "0             M5  116.418876  \n",
       "1             M5   99.761027  "
      ]
     },
     "execution_count": 10,
     "metadata": {},
     "output_type": "execute_result"
    }
   ],
   "source": [
    "df.head(2)"
   ]
  },
  {
   "cell_type": "markdown",
   "metadata": {},
   "source": [
    "Avaliando Cardinalidade das colunas com dados object"
   ]
  },
  {
   "cell_type": "code",
   "execution_count": 11,
   "metadata": {},
   "outputs": [
    {
     "name": "stdout",
     "output_type": "stream",
     "text": [
      "Coluna: Região\n",
      "Quantidade de valores únicos nessa coluna: 3\n",
      "Região\n",
      "MA    818\n",
      "PA    362\n",
      "TO    261\n",
      "Name: count, dtype: int64\n",
      "\n",
      "--------------------------------------------------\n",
      "\n",
      "Coluna: Material Genético\n",
      "Quantidade de valores únicos nessa coluna: 60\n",
      "Material Genético\n",
      "SUZMA2019    332\n",
      "SUZA0562     144\n",
      "AEC0144      136\n",
      "SUZA0385     117\n",
      "SUZA1250     111\n",
      "CO1355        71\n",
      "BA6021        57\n",
      "AEC1528       53\n",
      "SUZBA1922     43\n",
      "VCC975        37\n",
      "SUZA1253      35\n",
      "SUZA0217      33\n",
      "CO1407        32\n",
      "SUZA0407      32\n",
      "SUZA1265      23\n",
      "AEC0224       18\n",
      "PESQUISA      17\n",
      "SUZA1099      16\n",
      "VES0021       12\n",
      "SUZBA1083     11\n",
      "VE41          10\n",
      "SUZA1135       9\n",
      "AMC08          8\n",
      "CO1423         7\n",
      "SUZA1981       6\n",
      "SUZA1958       6\n",
      "SUZMA2025      5\n",
      "SUZSP1002      5\n",
      "VCC865         4\n",
      "IPB2           3\n",
      "VES0032        3\n",
      "SUZA1712       3\n",
      "CO0321         3\n",
      "GG100          3\n",
      "EUR            2\n",
      "SUZMA2037      2\n",
      "CO1404         2\n",
      "BA7340         2\n",
      "GER0680        2\n",
      "SUZMA2049      2\n",
      "SUZMA2022      2\n",
      "IPB1           2\n",
      "SUZA0540       2\n",
      "AEC0042        2\n",
      "QGS1445        1\n",
      "AEC0043        1\n",
      "MA3833         1\n",
      "QGS0149        1\n",
      "W762           1\n",
      "BHNPEL011      1\n",
      "SUZA1705       1\n",
      "QGS0155        1\n",
      "BHN0003        1\n",
      "EPE            1\n",
      "CO1277         1\n",
      "BHN1355        1\n",
      "FGCA0007       1\n",
      "CNB386         1\n",
      "AMC03          1\n",
      "SUZMA2003      1\n",
      "Name: count, dtype: int64\n",
      "\n",
      "--------------------------------------------------\n",
      "\n",
      "Coluna: Manejo Atual\n",
      "Quantidade de valores únicos nessa coluna: 3\n",
      "Manejo Atual\n",
      "REFORMA        1159\n",
      "CONDUÇÃO        255\n",
      "IMPLANTAÇÃO      27\n",
      "Name: count, dtype: int64\n",
      "\n",
      "--------------------------------------------------\n",
      "\n",
      "Coluna: Zona Climática\n",
      "Quantidade de valores únicos nessa coluna: 10\n",
      "Zona Climática\n",
      "M4    332\n",
      "M6    277\n",
      "SE    184\n",
      "M7    162\n",
      "M5    152\n",
      "M3    103\n",
      "M8     88\n",
      "M1     82\n",
      "M2     44\n",
      "M9     17\n",
      "Name: count, dtype: int64\n",
      "\n",
      "--------------------------------------------------\n",
      "\n"
     ]
    }
   ],
   "source": [
    "# Iterando sobre cada coluna do tipo 'object'\n",
    "for col in df.select_dtypes(include='object').columns:\n",
    "    print(f\"Coluna: {col}\")\n",
    "    print(f'Quantidade de valores únicos nessa coluna: {df[col].nunique()}')\n",
    "    print(df[col].value_counts())\n",
    "    print(\"\\n\" + \"-\"*50 + \"\\n\")\n"
   ]
  },
  {
   "cell_type": "markdown",
   "metadata": {},
   "source": [
    "Redução de cardinalidade"
   ]
  },
  {
   "cell_type": "code",
   "execution_count": 12,
   "metadata": {},
   "outputs": [],
   "source": [
    "# Aplicando a função para transformar em \"outro\" todos o valores que ocorrem < 10 vezes.\n",
    "df = pre_processor.substituir_valores_raros(df, limite=10, excluir_colunas=['Material Genético'])"
   ]
  },
  {
   "cell_type": "code",
   "execution_count": 13,
   "metadata": {},
   "outputs": [
    {
     "name": "stdout",
     "output_type": "stream",
     "text": [
      "Coluna: Região\n",
      "Quantidade de valores únicos nessa coluna: 3\n",
      "Região\n",
      "MA    818\n",
      "PA    362\n",
      "TO    261\n",
      "Name: count, dtype: int64\n",
      "\n",
      "--------------------------------------------------\n",
      "\n",
      "Coluna: Material Genético\n",
      "Quantidade de valores únicos nessa coluna: 60\n",
      "Material Genético\n",
      "SUZMA2019    332\n",
      "SUZA0562     144\n",
      "AEC0144      136\n",
      "SUZA0385     117\n",
      "SUZA1250     111\n",
      "CO1355        71\n",
      "BA6021        57\n",
      "AEC1528       53\n",
      "SUZBA1922     43\n",
      "VCC975        37\n",
      "SUZA1253      35\n",
      "SUZA0217      33\n",
      "CO1407        32\n",
      "SUZA0407      32\n",
      "SUZA1265      23\n",
      "AEC0224       18\n",
      "PESQUISA      17\n",
      "SUZA1099      16\n",
      "VES0021       12\n",
      "SUZBA1083     11\n",
      "VE41          10\n",
      "SUZA1135       9\n",
      "AMC08          8\n",
      "CO1423         7\n",
      "SUZA1981       6\n",
      "SUZA1958       6\n",
      "SUZMA2025      5\n",
      "SUZSP1002      5\n",
      "VCC865         4\n",
      "IPB2           3\n",
      "VES0032        3\n",
      "SUZA1712       3\n",
      "CO0321         3\n",
      "GG100          3\n",
      "EUR            2\n",
      "SUZMA2037      2\n",
      "CO1404         2\n",
      "BA7340         2\n",
      "GER0680        2\n",
      "SUZMA2049      2\n",
      "SUZMA2022      2\n",
      "IPB1           2\n",
      "SUZA0540       2\n",
      "AEC0042        2\n",
      "QGS1445        1\n",
      "AEC0043        1\n",
      "MA3833         1\n",
      "QGS0149        1\n",
      "W762           1\n",
      "BHNPEL011      1\n",
      "SUZA1705       1\n",
      "QGS0155        1\n",
      "BHN0003        1\n",
      "EPE            1\n",
      "CO1277         1\n",
      "BHN1355        1\n",
      "FGCA0007       1\n",
      "CNB386         1\n",
      "AMC03          1\n",
      "SUZMA2003      1\n",
      "Name: count, dtype: int64\n",
      "\n",
      "--------------------------------------------------\n",
      "\n",
      "Coluna: Manejo Atual\n",
      "Quantidade de valores únicos nessa coluna: 3\n",
      "Manejo Atual\n",
      "REFORMA        1159\n",
      "CONDUÇÃO        255\n",
      "IMPLANTAÇÃO      27\n",
      "Name: count, dtype: int64\n",
      "\n",
      "--------------------------------------------------\n",
      "\n",
      "Coluna: Zona Climática\n",
      "Quantidade de valores únicos nessa coluna: 10\n",
      "Zona Climática\n",
      "M4    332\n",
      "M6    277\n",
      "SE    184\n",
      "M7    162\n",
      "M5    152\n",
      "M3    103\n",
      "M8     88\n",
      "M1     82\n",
      "M2     44\n",
      "M9     17\n",
      "Name: count, dtype: int64\n",
      "\n",
      "--------------------------------------------------\n",
      "\n"
     ]
    }
   ],
   "source": [
    "# Iterando sobre cada coluna do tipo 'object'\n",
    "for col in df.select_dtypes(include='object').columns:\n",
    "    print(f\"Coluna: {col}\")\n",
    "    print(f'Quantidade de valores únicos nessa coluna: {df[col].nunique()}')\n",
    "    print(df[col].value_counts())\n",
    "    print(\"\\n\" + \"-\"*50 + \"\\n\")"
   ]
  },
  {
   "cell_type": "markdown",
   "metadata": {},
   "source": [
    "Aplicando Pipeline para Remover outliers"
   ]
  },
  {
   "cell_type": "code",
   "execution_count": 14,
   "metadata": {},
   "outputs": [],
   "source": [
    "# Removendo outliers\n",
    "outlier_remover = OutlierRemoverIQR()\n",
    "df = outlier_remover.fit_transform(df)"
   ]
  },
  {
   "cell_type": "code",
   "execution_count": 15,
   "metadata": {},
   "outputs": [
    {
     "data": {
      "text/html": [
       "<div>\n",
       "<style scoped>\n",
       "    .dataframe tbody tr th:only-of-type {\n",
       "        vertical-align: middle;\n",
       "    }\n",
       "\n",
       "    .dataframe tbody tr th {\n",
       "        vertical-align: top;\n",
       "    }\n",
       "\n",
       "    .dataframe thead th {\n",
       "        text-align: right;\n",
       "    }\n",
       "</style>\n",
       "<table border=\"1\" class=\"dataframe\">\n",
       "  <thead>\n",
       "    <tr style=\"text-align: right;\">\n",
       "      <th></th>\n",
       "      <th>Região</th>\n",
       "      <th>Material Genético</th>\n",
       "      <th>Altitude</th>\n",
       "      <th>arv/ha</th>\n",
       "      <th>Id Floresta</th>\n",
       "      <th>Manejo Atual</th>\n",
       "      <th>Zona Climática</th>\n",
       "      <th>avg_vol/ha</th>\n",
       "    </tr>\n",
       "  </thead>\n",
       "  <tbody>\n",
       "    <tr>\n",
       "      <th>0</th>\n",
       "      <td>MA</td>\n",
       "      <td>SUZMA2019</td>\n",
       "      <td>212.0</td>\n",
       "      <td>1111</td>\n",
       "      <td>5.79</td>\n",
       "      <td>REFORMA</td>\n",
       "      <td>M5</td>\n",
       "      <td>116.418876</td>\n",
       "    </tr>\n",
       "    <tr>\n",
       "      <th>1</th>\n",
       "      <td>MA</td>\n",
       "      <td>SUZMA2019</td>\n",
       "      <td>208.0</td>\n",
       "      <td>1111</td>\n",
       "      <td>5.70</td>\n",
       "      <td>CONDUÇÃO</td>\n",
       "      <td>M5</td>\n",
       "      <td>99.761027</td>\n",
       "    </tr>\n",
       "    <tr>\n",
       "      <th>2</th>\n",
       "      <td>MA</td>\n",
       "      <td>SUZMA2019</td>\n",
       "      <td>187.0</td>\n",
       "      <td>1111</td>\n",
       "      <td>5.70</td>\n",
       "      <td>CONDUÇÃO</td>\n",
       "      <td>M5</td>\n",
       "      <td>91.788245</td>\n",
       "    </tr>\n",
       "    <tr>\n",
       "      <th>3</th>\n",
       "      <td>MA</td>\n",
       "      <td>SUZMA2019</td>\n",
       "      <td>218.0</td>\n",
       "      <td>1111</td>\n",
       "      <td>5.02</td>\n",
       "      <td>CONDUÇÃO</td>\n",
       "      <td>M5</td>\n",
       "      <td>121.690072</td>\n",
       "    </tr>\n",
       "    <tr>\n",
       "      <th>4</th>\n",
       "      <td>MA</td>\n",
       "      <td>SUZMA2025</td>\n",
       "      <td>232.0</td>\n",
       "      <td>1111</td>\n",
       "      <td>5.03</td>\n",
       "      <td>CONDUÇÃO</td>\n",
       "      <td>M5</td>\n",
       "      <td>129.941341</td>\n",
       "    </tr>\n",
       "  </tbody>\n",
       "</table>\n",
       "</div>"
      ],
      "text/plain": [
       "  Região Material Genético  Altitude  arv/ha  Id Floresta Manejo Atual  \\\n",
       "0     MA         SUZMA2019     212.0    1111         5.79      REFORMA   \n",
       "1     MA         SUZMA2019     208.0    1111         5.70     CONDUÇÃO   \n",
       "2     MA         SUZMA2019     187.0    1111         5.70     CONDUÇÃO   \n",
       "3     MA         SUZMA2019     218.0    1111         5.02     CONDUÇÃO   \n",
       "4     MA         SUZMA2025     232.0    1111         5.03     CONDUÇÃO   \n",
       "\n",
       "  Zona Climática  avg_vol/ha  \n",
       "0             M5  116.418876  \n",
       "1             M5   99.761027  \n",
       "2             M5   91.788245  \n",
       "3             M5  121.690072  \n",
       "4             M5  129.941341  "
      ]
     },
     "execution_count": 15,
     "metadata": {},
     "output_type": "execute_result"
    }
   ],
   "source": [
    "df.head()"
   ]
  },
  {
   "cell_type": "markdown",
   "metadata": {
    "vscode": {
     "languageId": "plaintext"
    }
   },
   "source": [
    "#### Avaliação de Multicolinearidade: Identificação e possível remoção de variáveis altamente correlacionadas."
   ]
  },
  {
   "cell_type": "markdown",
   "metadata": {},
   "source": [
    "Avaliar esse quesito é importante já que:\n",
    "- Dificulta a interpretação dos coeficientes;\n",
    "- Reduz a capacidade preditiva: Overfitting;\n",
    "- Atrapalha na identificação da influência individual de variáveis, pois 'dizem a mesma coisa' para o modelo;\n",
    "- Dentre outros problemas."
   ]
  },
  {
   "cell_type": "code",
   "execution_count": 16,
   "metadata": {},
   "outputs": [],
   "source": [
    "def filtrar_e_visualizar_correlacao(df, threshold, drop_column=None):\n",
    "    # Calcula a matriz de correlação\n",
    "    corr = df.corr()\n",
    "    \n",
    "    # Aplica os filtros de limiar, excluindo a correlação perfeita\n",
    "    filtro = (abs(corr) >= threshold) & (corr != 1.0)\n",
    "    df_filtrado = corr.where(filtro).dropna(how='all').dropna(axis=1, how='all')\n",
    "    \n",
    "    # Remove a coluna e linha especificada, se fornecido\n",
    "    if drop_column:\n",
    "        df_filtrado = df_filtrado.drop(index=drop_column, \n",
    "                                       errors='ignore').drop(columns=drop_column, \n",
    "                                                             errors='ignore')\n",
    "    \n",
    "    # Verifica se o DataFrame resultante está vazio antes de plotar\n",
    "    if not df_filtrado.empty:\n",
    "        plt.figure()\n",
    "        sns.heatmap(df_filtrado, annot=True, cmap='coolwarm', center=0)\n",
    "        plt.show()\n",
    "    else:\n",
    "        print(\"Nenhuma correlação atende ao limiar especificado.\")"
   ]
  },
  {
   "cell_type": "code",
   "execution_count": 17,
   "metadata": {},
   "outputs": [
    {
     "name": "stdout",
     "output_type": "stream",
     "text": [
      "Nenhuma correlação atende ao limiar especificado.\n"
     ]
    }
   ],
   "source": [
    "numeric_features = df.select_dtypes(include=[np.number]).columns.to_list()\n",
    "filtrar_e_visualizar_correlacao(df[numeric_features], threshold=0.4)"
   ]
  },
  {
   "cell_type": "markdown",
   "metadata": {},
   "source": [
    "Podemos observar que mesmo as mais altas correlações estão dentro do aceitável."
   ]
  },
  {
   "cell_type": "markdown",
   "metadata": {},
   "source": [
    "Multicolinearidade - Fator de Inflação da Variância (VIF)"
   ]
  },
  {
   "cell_type": "code",
   "execution_count": 18,
   "metadata": {},
   "outputs": [],
   "source": [
    "import pandas as pd\n",
    "from statsmodels.stats.outliers_influence import variance_inflation_factor\n",
    "from statsmodels.tools.tools import add_constant"
   ]
  },
  {
   "cell_type": "code",
   "execution_count": 19,
   "metadata": {},
   "outputs": [
    {
     "name": "stdout",
     "output_type": "stream",
     "text": [
      "      Variable           VIF\n",
      "0        const  74741.561987\n",
      "1     Altitude      1.094923\n",
      "2       arv/ha      1.012426\n",
      "3  Id Floresta      1.285364\n",
      "4   avg_vol/ha      1.191340\n"
     ]
    }
   ],
   "source": [
    "# Filtrar apenas as colunas numéricas\n",
    "df_numeric = df.select_dtypes(include=[np.number])\n",
    "\n",
    "# Adicionar uma constante (termo de interceptação) ao DataFrame\n",
    "df_with_constant = add_constant(df_numeric)\n",
    "\n",
    "# Calcular o VIF para cada variável\n",
    "vif_data = pd.DataFrame()\n",
    "vif_data[\"Variable\"] = df_with_constant.columns\n",
    "vif_data[\"VIF\"] = [variance_inflation_factor(df_with_constant.values, i) for i in range(df_with_constant.shape[1])]\n",
    "\n",
    "# Exibir os resultados\n",
    "print(vif_data)"
   ]
  },
  {
   "cell_type": "markdown",
   "metadata": {},
   "source": [
    "Considerações:\n",
    "\n",
    "VIF ≈ 1: Nenhuma multicolinearidade <br>\n",
    "1 < VIF ≤ 5: Multicolinearidade moderada. <br>\n",
    "5 < VIF ≤ 10: Alta multicolinearidade. <br>\n",
    "VIF > 10: Multicolinearidade muito alta."
   ]
  },
  {
   "cell_type": "markdown",
   "metadata": {},
   "source": [
    "Verificamos uma baixa multicolinearidade."
   ]
  },
  {
   "cell_type": "markdown",
   "metadata": {},
   "source": [
    "## Treinando modelo"
   ]
  },
  {
   "cell_type": "code",
   "execution_count": 24,
   "metadata": {},
   "outputs": [
    {
     "name": "stdout",
     "output_type": "stream",
     "text": [
      "Modelo salvo em: ../models/modelo_treinado.pkl\n",
      "Preprocessador salvo em: ../models/preprocessador.pkl\n",
      "Label Encoder salvo em: ../models/label_encoder.pkl\n"
     ]
    }
   ],
   "source": [
    "# Exemplo de uso\n",
    "train_and_save_model(df, target_col='avg_vol/ha', model_path='../models/modelo_treinado.pkl', preprocessor_path='../models/preprocessador.pkl', label_encoder_path='../models/label_encoder.pkl')"
   ]
  },
  {
   "cell_type": "code",
   "execution_count": 25,
   "metadata": {},
   "outputs": [
    {
     "data": {
      "text/html": [
       "<div>\n",
       "<style scoped>\n",
       "    .dataframe tbody tr th:only-of-type {\n",
       "        vertical-align: middle;\n",
       "    }\n",
       "\n",
       "    .dataframe tbody tr th {\n",
       "        vertical-align: top;\n",
       "    }\n",
       "\n",
       "    .dataframe thead th {\n",
       "        text-align: right;\n",
       "    }\n",
       "</style>\n",
       "<table border=\"1\" class=\"dataframe\">\n",
       "  <thead>\n",
       "    <tr style=\"text-align: right;\">\n",
       "      <th></th>\n",
       "      <th>Região</th>\n",
       "      <th>Material Genético</th>\n",
       "      <th>Altitude</th>\n",
       "      <th>arv/ha</th>\n",
       "      <th>Id Floresta</th>\n",
       "      <th>Manejo Atual</th>\n",
       "      <th>Zona Climática</th>\n",
       "      <th>avg_vol/ha</th>\n",
       "    </tr>\n",
       "  </thead>\n",
       "  <tbody>\n",
       "    <tr>\n",
       "      <th>0</th>\n",
       "      <td>MA</td>\n",
       "      <td>SUZMA2019</td>\n",
       "      <td>212.0</td>\n",
       "      <td>1111</td>\n",
       "      <td>5.79</td>\n",
       "      <td>REFORMA</td>\n",
       "      <td>M5</td>\n",
       "      <td>116.418876</td>\n",
       "    </tr>\n",
       "    <tr>\n",
       "      <th>1</th>\n",
       "      <td>MA</td>\n",
       "      <td>SUZMA2019</td>\n",
       "      <td>208.0</td>\n",
       "      <td>1111</td>\n",
       "      <td>5.70</td>\n",
       "      <td>CONDUÇÃO</td>\n",
       "      <td>M5</td>\n",
       "      <td>99.761027</td>\n",
       "    </tr>\n",
       "  </tbody>\n",
       "</table>\n",
       "</div>"
      ],
      "text/plain": [
       "  Região Material Genético  Altitude  arv/ha  Id Floresta Manejo Atual  \\\n",
       "0     MA         SUZMA2019     212.0    1111         5.79      REFORMA   \n",
       "1     MA         SUZMA2019     208.0    1111         5.70     CONDUÇÃO   \n",
       "\n",
       "  Zona Climática  avg_vol/ha  \n",
       "0             M5  116.418876  \n",
       "1             M5   99.761027  "
      ]
     },
     "execution_count": 25,
     "metadata": {},
     "output_type": "execute_result"
    }
   ],
   "source": [
    "df.head(2)"
   ]
  },
  {
   "cell_type": "code",
   "execution_count": 33,
   "metadata": {},
   "outputs": [
    {
     "data": {
      "text/plain": [
       "array(['SUZMA2019', 'SUZMA2025', 'VE41', 'SUZA0562', 'CO1407', 'CO1355',\n",
       "       'SUZA1265', 'SUZA0385', 'AEC0144', 'PESQUISA', 'SUZA1253',\n",
       "       'BA6021', 'SUZA1250', 'MA3833', 'SUZA0407', 'SUZA1981', 'AMC08',\n",
       "       'SUZBA1922', 'AEC0043', 'CO0321', 'EUR', 'SUZA0217', 'SUZA1099',\n",
       "       'SUZBA1083', 'SUZMA2049', 'SUZA1958', 'BHNPEL011', 'SUZA0540',\n",
       "       'SUZSP1002', 'SUZA1135', 'SUZA1712', 'SUZA1705', 'AEC1528',\n",
       "       'BHN0003', 'EPE', 'QGS0149', 'QGS0155', 'AEC0042', 'SUZMA2022',\n",
       "       'VCC975', 'GG100', 'SUZMA2003'], dtype=object)"
      ]
     },
     "execution_count": 33,
     "metadata": {},
     "output_type": "execute_result"
    }
   ],
   "source": [
    "df['Material Genético'].unique()"
   ]
  },
  {
   "cell_type": "markdown",
   "metadata": {},
   "source": [
    "#### Métricas de validação"
   ]
  },
  {
   "cell_type": "code",
   "execution_count": 23,
   "metadata": {},
   "outputs": [
    {
     "ename": "NameError",
     "evalue": "name 'train_and_evaluate' is not defined",
     "output_type": "error",
     "traceback": [
      "\u001b[1;31m---------------------------------------------------------------------------\u001b[0m",
      "\u001b[1;31mNameError\u001b[0m                                 Traceback (most recent call last)",
      "Cell \u001b[1;32mIn[23], line 2\u001b[0m\n\u001b[0;32m      1\u001b[0m \u001b[38;5;66;03m# Treinar e avaliar o modelo\u001b[39;00m\n\u001b[1;32m----> 2\u001b[0m mse, r2, pipeline \u001b[38;5;241m=\u001b[39m \u001b[43mtrain_and_evaluate\u001b[49m(X_train, X_test, y_train, y_test)\n",
      "\u001b[1;31mNameError\u001b[0m: name 'train_and_evaluate' is not defined"
     ]
    }
   ],
   "source": [
    "# Treinar e avaliar o modelo\n",
    "mse, r2, pipeline = train_and_evaluate(X_train, X_test, y_train, y_test)"
   ]
  },
  {
   "cell_type": "code",
   "execution_count": null,
   "metadata": {},
   "outputs": [],
   "source": [
    "# Exibir os resultados\n",
    "print(f\"MSE: {mse}\")\n",
    "print(f\"R²: {r2}\")"
   ]
  },
  {
   "cell_type": "markdown",
   "metadata": {},
   "source": [
    "### Importância das features"
   ]
  },
  {
   "cell_type": "code",
   "execution_count": null,
   "metadata": {},
   "outputs": [
    {
     "name": "stdout",
     "output_type": "stream",
     "text": [
      "           Feature  Importance\n",
      "4         Altitude    0.327279\n",
      "0               UP    0.151234\n",
      "3        Densidade    0.132865\n",
      "11      (%) Falhas    0.083518\n",
      "12      avg_vol/ha    0.076364\n",
      "6      Id Floresta    0.066908\n",
      "1           Volume    0.052718\n",
      "10      (%) Mortas    0.032952\n",
      "8        Município    0.023005\n",
      "5      Espaçamento    0.019844\n",
      "9   Zona Climática    0.017708\n",
      "7     Manejo Atual    0.012662\n",
      "2           Região    0.002943\n"
     ]
    }
   ],
   "source": [
    "\n",
    "importances = model.feature_importances_\n",
    "feature_importances = pd.DataFrame({'Feature': X.columns, 'Importance': importances})\n",
    "feature_importances = feature_importances.sort_values(by='Importance', ascending=False)\n",
    "print(feature_importances)"
   ]
  },
  {
   "cell_type": "markdown",
   "metadata": {},
   "source": [
    "**Correlação de Pearson/Spearman**: Para medir a relação entre variáveis contínuas."
   ]
  },
  {
   "cell_type": "markdown",
   "metadata": {},
   "source": [
    "**Análise de Variância (ANOVA)**: Para testar a diferença entre grupos categóricos."
   ]
  },
  {
   "cell_type": "markdown",
   "metadata": {},
   "source": [
    "**Random Forest**: Utilize a importância das features do Random Forest para identificar os parâmetros mais impactantes."
   ]
  },
  {
   "cell_type": "markdown",
   "metadata": {},
   "source": [
    "**Gradient Boosting (XGBoost/LightGBM)**: Outro método que fornece importância das features."
   ]
  },
  {
   "cell_type": "markdown",
   "metadata": {},
   "source": [
    "### Modelos de Machine Learning"
   ]
  },
  {
   "cell_type": "markdown",
   "metadata": {},
   "source": [
    "##### Regressão (Para prever a produtividade)"
   ]
  },
  {
   "cell_type": "markdown",
   "metadata": {},
   "source": [
    "Random Forest Regressor: Bom para capturar relações não lineares e interações entre variáveis."
   ]
  },
  {
   "cell_type": "markdown",
   "metadata": {},
   "source": [
    "Gradient Boosting Regressor (XGBoost/LightGBM): Eficiente para modelos complexos com bom desempenho preditivo."
   ]
  },
  {
   "cell_type": "markdown",
   "metadata": {},
   "source": [
    "##### Classificação (Para recomendar espécies)"
   ]
  },
  {
   "cell_type": "markdown",
   "metadata": {},
   "source": [
    "Random Forest Classifier: Classificador robusto para dados com múltiplas classes."
   ]
  },
  {
   "cell_type": "markdown",
   "metadata": {},
   "source": [
    "Gradient Boosting Classifier (XGBoost/LightGBM): Bom para classificações precisas e detalhadas."
   ]
  },
  {
   "cell_type": "markdown",
   "metadata": {},
   "source": [
    "### Recomendações e Ajustes"
   ]
  },
  {
   "cell_type": "markdown",
   "metadata": {},
   "source": [
    "**Validação Cruzada**: Use validação cruzada para garantir que os modelos são robustos."
   ]
  },
  {
   "cell_type": "markdown",
   "metadata": {},
   "source": [
    "**Hyperparameter Tuning**: Ajuste os hiperparâmetros dos modelos para melhorar o desempenho."
   ]
  },
  {
   "cell_type": "markdown",
   "metadata": {},
   "source": [
    "**Interpretação de Resultados**: Utilize técnicas como SHAP (Shapley Additive Explanations) para interpretar os resultados dos modelos e entender o impacto de cada variável nas previsões."
   ]
  },
  {
   "cell_type": "markdown",
   "metadata": {},
   "source": [
    "Criar coluna idade aprox. no momento do corte: (Data entrada-60 dias) - Inicio de plantio \n",
    "Criar coluna de TPC(transporte) - data de entrada - Data de corte"
   ]
  },
  {
   "cell_type": "code",
   "execution_count": null,
   "metadata": {},
   "outputs": [],
   "source": []
  },
  {
   "cell_type": "markdown",
   "metadata": {},
   "source": [
    "Questões\n",
    "\n",
    "1. Qual material genético produz mais? Há diferenças de acordo com a região?\n",
    "2. Há interferência do ciclo e rotação na volumetria considerando o material genético?\n",
    "3. Há relação entre a volumetria e a densidade considerando a mesma área?\n",
    "4. Que espécie se sai melhor em produtividade em cada região?\n",
    "5. Qual a variação de volume transportado ao longo do ano?\n",
    "6. O horário influencia no tempo de carga, permanência no pátio e descarga?\n",
    "7. A distância influencia muito no TPC?\n",
    "8. Há alguma correlação entre a densidade e o TPC?\n",
    "9. Há alguma correlação entre a espécie e o TPC?"
   ]
  },
  {
   "cell_type": "code",
   "execution_count": null,
   "metadata": {},
   "outputs": [],
   "source": []
  },
  {
   "cell_type": "markdown",
   "metadata": {},
   "source": [
    "Opções: Otimizador ou recomendador\n",
    "\n",
    "dicas:\n",
    "\n",
    "Agrupar em macro assuntos\n",
    "\n",
    "Possibilidades:\n",
    "\n",
    "Criação de painel de tomada de decisão"
   ]
  },
  {
   "cell_type": "code",
   "execution_count": null,
   "metadata": {},
   "outputs": [],
   "source": []
  },
  {
   "cell_type": "code",
   "execution_count": null,
   "metadata": {},
   "outputs": [],
   "source": []
  },
  {
   "cell_type": "markdown",
   "metadata": {},
   "source": [
    "Dados extras - Cadastro florestal, puxar o tamanho da UP."
   ]
  }
 ],
 "metadata": {
  "kernelspec": {
   "display_name": "venv",
   "language": "python",
   "name": "python3"
  },
  "language_info": {
   "codemirror_mode": {
    "name": "ipython",
    "version": 3
   },
   "file_extension": ".py",
   "mimetype": "text/x-python",
   "name": "python",
   "nbconvert_exporter": "python",
   "pygments_lexer": "ipython3",
   "version": "3.11.5"
  }
 },
 "nbformat": 4,
 "nbformat_minor": 2
}
