{
 "cells": [
  {
   "cell_type": "markdown",
   "metadata": {
    "vscode": {
     "languageId": "plaintext"
    }
   },
   "source": [
    "## <center> Análise Exploratória"
   ]
  },
  {
   "cell_type": "code",
   "execution_count": 1,
   "metadata": {},
   "outputs": [],
   "source": [
    "# Preparando ambiente e importando bibliotecas necessárias\n",
    "import pandas as pd\n",
    "pd.set_option('display.max_columns', None) # Para ver todas as colunas"
   ]
  },
  {
   "cell_type": "markdown",
   "metadata": {},
   "source": [
    "#### Importando e ajustando o dataframe"
   ]
  },
  {
   "cell_type": "code",
   "execution_count": 2,
   "metadata": {},
   "outputs": [
    {
     "name": "stdout",
     "output_type": "stream",
     "text": [
      "c:\\Users\\JPCONCEICAO\\OneDrive - Suzano S A\\Coding\\PROJETO_RECOMENDADOR_CLONAL\\notebooks\n"
     ]
    }
   ],
   "source": [
    "import os\n",
    "\n",
    "# Mostra o diretório de trabalho atual\n",
    "print(os.getcwd())"
   ]
  },
  {
   "cell_type": "code",
   "execution_count": 3,
   "metadata": {},
   "outputs": [],
   "source": [
    "path1 = '..\\\\data\\\\raw\\\\zfl76.XLSX'\n",
    "zfl76 = pd.read_excel(path1) # Relatório da transação SAP que faz a gestão logistica de madeira\n",
    "\n",
    "path2 = '..\\\\data\\\\raw\\\\cadastro.xlsx'\n",
    "cadastro = pd.read_excel(path2) # Base de informações das UPs"
   ]
  },
  {
   "cell_type": "code",
   "execution_count": 4,
   "metadata": {},
   "outputs": [],
   "source": [
    "zfl76.rename(columns={\"UP\":\"UP2\"}, inplace=True)"
   ]
  },
  {
   "cell_type": "code",
   "execution_count": 5,
   "metadata": {},
   "outputs": [],
   "source": [
    "zfl76[\"UP\"] = zfl76['TpDepOGM'] + zfl76['UP2']"
   ]
  },
  {
   "cell_type": "markdown",
   "metadata": {},
   "source": [
    "Unificando as bases"
   ]
  },
  {
   "cell_type": "code",
   "execution_count": 6,
   "metadata": {},
   "outputs": [],
   "source": [
    "df = pd.merge(zfl76, cadastro, on='UP', how='left')"
   ]
  },
  {
   "cell_type": "markdown",
   "metadata": {},
   "source": [
    "#### Feature Selection"
   ]
  },
  {
   "cell_type": "code",
   "execution_count": 7,
   "metadata": {},
   "outputs": [],
   "source": [
    "# Variáveis a utilizar - Preditor de produtividade\n",
    "columns = ['Região','Material Genético','Volume','Densidade', 'UP','Altitude','Area Útil','(%) Mortas', '(%) Falhas','Manejo Atual','Município','Zona Climática', 'Id Floresta','Espaçamento']\n",
    "df_prod = df[columns]"
   ]
  },
  {
   "cell_type": "markdown",
   "metadata": {},
   "source": [
    "#### Tratamento de Dados Ausentes: Imputação ou remoção de valores ausentes."
   ]
  },
  {
   "cell_type": "code",
   "execution_count": 8,
   "metadata": {},
   "outputs": [
    {
     "data": {
      "text/plain": [
       "Região                   0\n",
       "Material Genético        0\n",
       "Volume                   0\n",
       "Densidade                0\n",
       "UP                       0\n",
       "Altitude              9677\n",
       "Area Útil             9677\n",
       "(%) Mortas           65477\n",
       "(%) Falhas           65477\n",
       "Manejo Atual          9677\n",
       "Município             9677\n",
       "Zona Climática        9677\n",
       "Id Floresta              0\n",
       "Espaçamento           9677\n",
       "dtype: int64"
      ]
     },
     "execution_count": 8,
     "metadata": {},
     "output_type": "execute_result"
    }
   ],
   "source": [
    "df_prod.isna().sum()"
   ]
  },
  {
   "cell_type": "code",
   "execution_count": 9,
   "metadata": {},
   "outputs": [],
   "source": [
    "#Excluindo colunas com todos os valores vazios\n",
    "df = df.dropna(axis=1, how='all')"
   ]
  },
  {
   "cell_type": "code",
   "execution_count": 10,
   "metadata": {},
   "outputs": [],
   "source": [
    "# Preenchendo valores faltantes com 0\n",
    "df_prod[['(%) Mortas','(%) Falhas']] = df_prod[['(%) Mortas','(%) Falhas']].fillna(0)"
   ]
  },
  {
   "cell_type": "code",
   "execution_count": 11,
   "metadata": {},
   "outputs": [],
   "source": [
    "# Consolidando o volume total por UP\n",
    "df_vol = df_prod.groupby(['UP'], as_index=False).agg({'Volume':'sum'})\n",
    "df_prod = pd.merge(df_vol, df_prod[['Região', 'Material Genético', 'Densidade', 'UP', 'Altitude', 'Area Útil',\n",
    "                                     'Espaçamento', 'Id Floresta', 'Manejo Atual', 'Município', 'Zona Climática',\n",
    "                                     '(%) Mortas', '(%) Falhas']], \n",
    "                     on='UP', how='left').drop_duplicates(subset=\"UP\")"
   ]
  },
  {
   "cell_type": "code",
   "execution_count": 12,
   "metadata": {},
   "outputs": [
    {
     "data": {
      "text/plain": [
       "UP                     0\n",
       "Volume                 0\n",
       "Região                 0\n",
       "Material Genético      0\n",
       "Densidade              0\n",
       "Altitude             123\n",
       "Area Útil            123\n",
       "Espaçamento          123\n",
       "Id Floresta            0\n",
       "Manejo Atual         123\n",
       "Município            123\n",
       "Zona Climática       123\n",
       "(%) Mortas             0\n",
       "(%) Falhas             0\n",
       "dtype: int64"
      ]
     },
     "execution_count": 12,
     "metadata": {},
     "output_type": "execute_result"
    }
   ],
   "source": [
    "df_prod.isna().sum()"
   ]
  },
  {
   "cell_type": "code",
   "execution_count": 13,
   "metadata": {},
   "outputs": [],
   "source": [
    "# Removendo linhas com valores nulos\n",
    "df_prod = df_prod.dropna(subset=['Altitude'])"
   ]
  },
  {
   "cell_type": "code",
   "execution_count": 14,
   "metadata": {},
   "outputs": [
    {
     "name": "stdout",
     "output_type": "stream",
     "text": [
      "<class 'pandas.core.frame.DataFrame'>\n",
      "Index: 1441 entries, 0 to 148853\n",
      "Data columns (total 14 columns):\n",
      " #   Column             Non-Null Count  Dtype  \n",
      "---  ------             --------------  -----  \n",
      " 0   UP                 1441 non-null   object \n",
      " 1   Volume             1441 non-null   float64\n",
      " 2   Região             1441 non-null   object \n",
      " 3   Material Genético  1441 non-null   object \n",
      " 4   Densidade          1441 non-null   float64\n",
      " 5   Altitude           1441 non-null   float64\n",
      " 6   Area Útil          1441 non-null   float64\n",
      " 7   Espaçamento        1441 non-null   object \n",
      " 8   Id Floresta        1441 non-null   float64\n",
      " 9   Manejo Atual       1441 non-null   object \n",
      " 10  Município          1441 non-null   object \n",
      " 11  Zona Climática     1441 non-null   object \n",
      " 12  (%) Mortas         1441 non-null   float64\n",
      " 13  (%) Falhas         1441 non-null   float64\n",
      "dtypes: float64(7), object(7)\n",
      "memory usage: 168.9+ KB\n"
     ]
    }
   ],
   "source": [
    "df_prod.info()"
   ]
  },
  {
   "cell_type": "code",
   "execution_count": 15,
   "metadata": {},
   "outputs": [
    {
     "data": {
      "text/html": [
       "<div>\n",
       "<style scoped>\n",
       "    .dataframe tbody tr th:only-of-type {\n",
       "        vertical-align: middle;\n",
       "    }\n",
       "\n",
       "    .dataframe tbody tr th {\n",
       "        vertical-align: top;\n",
       "    }\n",
       "\n",
       "    .dataframe thead th {\n",
       "        text-align: right;\n",
       "    }\n",
       "</style>\n",
       "<table border=\"1\" class=\"dataframe\">\n",
       "  <thead>\n",
       "    <tr style=\"text-align: right;\">\n",
       "      <th></th>\n",
       "      <th>UP</th>\n",
       "      <th>Volume</th>\n",
       "      <th>Região</th>\n",
       "      <th>Material Genético</th>\n",
       "      <th>Densidade</th>\n",
       "      <th>Altitude</th>\n",
       "      <th>Area Útil</th>\n",
       "      <th>Espaçamento</th>\n",
       "      <th>Id Floresta</th>\n",
       "      <th>Manejo Atual</th>\n",
       "      <th>Município</th>\n",
       "      <th>Zona Climática</th>\n",
       "      <th>(%) Mortas</th>\n",
       "      <th>(%) Falhas</th>\n",
       "    </tr>\n",
       "  </thead>\n",
       "  <tbody>\n",
       "    <tr>\n",
       "      <th>0</th>\n",
       "      <td>I1AB09</td>\n",
       "      <td>3688.15</td>\n",
       "      <td>MA</td>\n",
       "      <td>SUZMA2019</td>\n",
       "      <td>495.66</td>\n",
       "      <td>212.0</td>\n",
       "      <td>31.68</td>\n",
       "      <td>INDEFINIDO</td>\n",
       "      <td>5.79</td>\n",
       "      <td>REFORMA</td>\n",
       "      <td>ESTREITO</td>\n",
       "      <td>M5</td>\n",
       "      <td>0.00</td>\n",
       "      <td>0.00</td>\n",
       "    </tr>\n",
       "    <tr>\n",
       "      <th>60</th>\n",
       "      <td>I1AE01</td>\n",
       "      <td>5088.81</td>\n",
       "      <td>MA</td>\n",
       "      <td>SUZMA2019</td>\n",
       "      <td>496.07</td>\n",
       "      <td>208.0</td>\n",
       "      <td>51.01</td>\n",
       "      <td>300X330</td>\n",
       "      <td>5.70</td>\n",
       "      <td>CONDUÇÃO</td>\n",
       "      <td>ESTREITO</td>\n",
       "      <td>M5</td>\n",
       "      <td>0.00</td>\n",
       "      <td>0.00</td>\n",
       "    </tr>\n",
       "    <tr>\n",
       "      <th>146</th>\n",
       "      <td>I1AE03</td>\n",
       "      <td>4404.00</td>\n",
       "      <td>MA</td>\n",
       "      <td>SUZMA2019</td>\n",
       "      <td>490.86</td>\n",
       "      <td>187.0</td>\n",
       "      <td>47.98</td>\n",
       "      <td>300X330</td>\n",
       "      <td>5.70</td>\n",
       "      <td>CONDUÇÃO</td>\n",
       "      <td>ESTREITO</td>\n",
       "      <td>M5</td>\n",
       "      <td>0.00</td>\n",
       "      <td>0.00</td>\n",
       "    </tr>\n",
       "    <tr>\n",
       "      <th>216</th>\n",
       "      <td>I1AF01</td>\n",
       "      <td>4228.73</td>\n",
       "      <td>MA</td>\n",
       "      <td>SUZMA2019</td>\n",
       "      <td>513.60</td>\n",
       "      <td>218.0</td>\n",
       "      <td>34.75</td>\n",
       "      <td>300X330</td>\n",
       "      <td>5.02</td>\n",
       "      <td>CONDUÇÃO</td>\n",
       "      <td>ESTREITO</td>\n",
       "      <td>M5</td>\n",
       "      <td>0.04</td>\n",
       "      <td>0.00</td>\n",
       "    </tr>\n",
       "    <tr>\n",
       "      <th>279</th>\n",
       "      <td>I1AF02</td>\n",
       "      <td>6490.57</td>\n",
       "      <td>MA</td>\n",
       "      <td>SUZMA2025</td>\n",
       "      <td>559.88</td>\n",
       "      <td>232.0</td>\n",
       "      <td>49.95</td>\n",
       "      <td>300X330</td>\n",
       "      <td>5.03</td>\n",
       "      <td>CONDUÇÃO</td>\n",
       "      <td>ESTREITO</td>\n",
       "      <td>M5</td>\n",
       "      <td>0.07</td>\n",
       "      <td>0.02</td>\n",
       "    </tr>\n",
       "  </tbody>\n",
       "</table>\n",
       "</div>"
      ],
      "text/plain": [
       "         UP   Volume Região Material Genético  Densidade  Altitude  Area Útil  \\\n",
       "0    I1AB09  3688.15     MA         SUZMA2019     495.66     212.0      31.68   \n",
       "60   I1AE01  5088.81     MA         SUZMA2019     496.07     208.0      51.01   \n",
       "146  I1AE03  4404.00     MA         SUZMA2019     490.86     187.0      47.98   \n",
       "216  I1AF01  4228.73     MA         SUZMA2019     513.60     218.0      34.75   \n",
       "279  I1AF02  6490.57     MA         SUZMA2025     559.88     232.0      49.95   \n",
       "\n",
       "    Espaçamento  Id Floresta Manejo Atual Município Zona Climática  \\\n",
       "0    INDEFINIDO         5.79      REFORMA  ESTREITO             M5   \n",
       "60      300X330         5.70     CONDUÇÃO  ESTREITO             M5   \n",
       "146     300X330         5.70     CONDUÇÃO  ESTREITO             M5   \n",
       "216     300X330         5.02     CONDUÇÃO  ESTREITO             M5   \n",
       "279     300X330         5.03     CONDUÇÃO  ESTREITO             M5   \n",
       "\n",
       "     (%) Mortas  (%) Falhas  \n",
       "0          0.00        0.00  \n",
       "60         0.00        0.00  \n",
       "146        0.00        0.00  \n",
       "216        0.04        0.00  \n",
       "279        0.07        0.02  "
      ]
     },
     "execution_count": 15,
     "metadata": {},
     "output_type": "execute_result"
    }
   ],
   "source": [
    "df_prod.head()"
   ]
  },
  {
   "cell_type": "markdown",
   "metadata": {
    "vscode": {
     "languageId": "plaintext"
    }
   },
   "source": [
    "Explicação das variáveis"
   ]
  },
  {
   "cell_type": "code",
   "execution_count": 16,
   "metadata": {},
   "outputs": [],
   "source": [
    "# Cria um dicionário com a descrição de cada variável\n",
    "df_dict = {\n",
    "    \"UP\": \"Unidade de Produção: subdivisão de um imóvel rural, delimitada de acordo com critérios técnicos e operacionais como: como tipo de solo, espécies de árvores, topografia, e condições climáticas.\",\n",
    "    \"Volume\": \"Quantidade de madeira em m³ transportado de uma determinada UP\",\n",
    "    \"Região\": \"Estado Origem\",\n",
    "    \"Material Genético\": \"Clone plantado\",\n",
    "    \"Densidade\": \"Medida relativa ao peso dividido por volume (kg/m³)\",\n",
    "    \"Altitude\": \"Elevação da UP em relação ao nível do mar\",\n",
    "    \"Area Útil\": \"Extensão da UP em m²\",\n",
    "    \"Espaçamento\": \"Distancia entre plantas na linha e entre linhas\",\n",
    "    \"Id Floresta\": \"Idade da floresta\",\n",
    "    \"Manejo Atual\": \"Tipo de manejo silvicultural, podendo ser Reforma (Quando há o plantio de mudas) ou condução (quando é cultivada a brotação da cepa do ciclo anterior)\",\n",
    "    \"Município\": \"Cidade onde a fazenda está localizada, pode trazer outras informaçãoes edafoclimática não discriminadas por outro atributo aqui\",\n",
    "    \"Zona Climática\": \"Classificação conforme caracteristicas climáticas\",\n",
    "    \"(%) Mortas\": \"Quantificação relativa de mudas mortas\",\n",
    "    \"(%) Falhas\": \"Quantificação relativa de áreas sem mudas\"\n",
    "}"
   ]
  },
  {
   "cell_type": "markdown",
   "metadata": {},
   "source": [
    "### Feature Engineering"
   ]
  },
  {
   "cell_type": "markdown",
   "metadata": {},
   "source": [
    "OBS.: Apesar da engenharia de features ser etapa do pré-processamento, vamos criar uma nova variável aqui que será essencial para avaliarmos a produtividade por espécie ao longo do tempo."
   ]
  },
  {
   "cell_type": "code",
   "execution_count": 17,
   "metadata": {},
   "outputs": [],
   "source": [
    "# Criar volume médio/HA\n",
    "df_prod['avg_vol/ha'] = df_prod['Volume']/df_prod['Area Útil']"
   ]
  },
  {
   "cell_type": "code",
   "execution_count": 18,
   "metadata": {},
   "outputs": [],
   "source": [
    "# Removendo coluna 'Area Útil' (redundante coom avg_vol/ha) e 'UP' (valor único por linha)\n",
    "df_prod.drop(columns=['Area Útil','UP', 'Volume', '(%) Mortas', '(%) Falhas', 'Densidade', 'Município'], inplace=True)"
   ]
  },
  {
   "cell_type": "markdown",
   "metadata": {},
   "source": [
    "#### Separando o DF em treino e Teste"
   ]
  },
  {
   "cell_type": "markdown",
   "metadata": {},
   "source": [
    "Como não há uma resposta certa, ou seja, buscamos um recomendador que maximize a produtividade considerando as variáveis independentes, não há porque separar o conjunto em treino e teste."
   ]
  },
  {
   "cell_type": "markdown",
   "metadata": {},
   "source": [
    "## EDA"
   ]
  },
  {
   "cell_type": "markdown",
   "metadata": {},
   "source": [
    "#### DataViz"
   ]
  },
  {
   "cell_type": "code",
   "execution_count": 19,
   "metadata": {},
   "outputs": [],
   "source": [
    "import seaborn as sns\n",
    "import matplotlib.pyplot as plt"
   ]
  },
  {
   "cell_type": "markdown",
   "metadata": {},
   "source": [
    " Distribuições"
   ]
  },
  {
   "cell_type": "code",
   "execution_count": 20,
   "metadata": {},
   "outputs": [
    {
     "data": {
      "image/png": "[encoded data removed]",
      "text/plain": [
       "<Figure size 1200x600 with 6 Axes>"
      ]
     },
     "metadata": {},
     "output_type": "display_data"
    }
   ],
   "source": [
    "# Criando uma figura com 2x2 subplots\n",
    "fig, axs = plt.subplots(2, 3, figsize=(12, 6))\n",
    "\n",
    "# Primeiro subplot\n",
    "sns.histplot(data=df_prod, x=\"Id Floresta\", ax=axs[0][0])\n",
    "axs[0][0].set_title(\"Distribuição idade de corte\")\n",
    "\n",
    "# Segundo subplot\n",
    "sns.countplot(data=df_prod, x=\"Região\", ax=axs[0][1])\n",
    "axs[0][1].set_title(\"Contagem por região\")\n",
    "\n",
    "# Terceiro subplot\n",
    "sns.countplot(data=df_prod, y=\"Zona Climática\",orient='h', ax=axs[0][2])\n",
    "axs[0][2].set_title(\"Distribuiçãodas UPs por zonas climáticas\")\n",
    "\n",
    "# Quarto subplot\n",
    "sns.lineplot(data=df_prod, x=\"Id Floresta\", y='avg_vol/ha', ax=axs[1][0])\n",
    "axs[1][0].set_title(\"Produtividadade média por idade de corte\")\n",
    "\n",
    "# Quinto subplot\n",
    "sns.barplot(data=df_prod, x=\"Região\", y='avg_vol/ha', ax=axs[1][1])\n",
    "axs[1][1].set_title(\"Produtividade média por Região\")\n",
    "\n",
    "# Sexto subplot\n",
    "sns.barplot(data=df_prod, x=\"Zona Climática\", y='avg_vol/ha', ax=axs[1][2])\n",
    "axs[1][2].set_title(\"Produtividadade média por zona climática\")\n",
    "\n",
    "# Ajustando o layout para que os gráficos não se sobreponham\n",
    "plt.tight_layout()\n",
    "plt.show()"
   ]
  },
  {
   "cell_type": "code",
   "execution_count": 21,
   "metadata": {},
   "outputs": [],
   "source": [
    "# Função para criar o gráfico\n",
    "def plot_species_group(df, start=0):\n",
    "    \n",
    "    import plotly.io as pio\n",
    "    import plotly.express as px\n",
    "    # Configurando para que o gráfico não seja exibido automaticamente\n",
    "    pio.renderers.default = 'notebook_connected'\n",
    "    # Ordenando a produtividade por Espécie\n",
    "    df_sorted = df.groupby(['Material Genético','Id Floresta']).agg({'avg_vol/ha':'mean'}).reset_index().sort_values('avg_vol/ha', ascending=False)\n",
    "    # Seleciona um grupo de 6 espécies a partir do índice 'start'\n",
    "    selected_species = df_sorted['Material Genético'][start:start+6].tolist()\n",
    "    df_filtered = df_sorted[df_sorted['Material Genético'].isin(selected_species)]\n",
    "    \n",
    "    # Criando o gráfico\n",
    "    fig = px.line(df_filtered, x='Id Floresta', y='avg_vol/ha', color='Material Genético',\n",
    "                  title=f'Volume por Espécie: {start+1} a {start+6}',\n",
    "                  labels={'Id Floresta':'Idade da Floresta (Anos)','Volume':'Volume médio/Ha'})\n",
    "    \n",
    "    fig.update_layout(xaxis_title='Idade da Floresta (Anos)', yaxis_title='Volume Total Produzido')\n",
    "    fig.show()"
   ]
  },
  {
   "cell_type": "code",
   "execution_count": 22,
   "metadata": {},
   "outputs": [
    {
     "data": {
      "application/vnd.jupyter.widget-view+json": {
       "model_id": "8120133d753948e5885666878a7a9935",
       "version_major": 2,
       "version_minor": 0
      },
      "text/plain": [
       "interactive(children=(IntSlider(value=0, description='start', max=54, step=6), Output()), _dom_classes=('widge…"
      ]
     },
     "metadata": {},
     "output_type": "display_data"
    },
    {
     "data": {
      "text/plain": [
       "<function __main__.plot_species_group(df, start=0)>"
      ]
     },
     "execution_count": 22,
     "metadata": {},
     "output_type": "execute_result"
    }
   ],
   "source": [
    "# Criando um widget de slider para selecionar o grupo de espécies\n",
    "from ipywidgets import interact, widgets\n",
    "total_species = len(df_prod['Material Genético'].unique())\n",
    "max_start = max(0, total_species - 6)\n",
    "interact(plot_species_group, df=widgets.fixed(df_prod), start=widgets.IntSlider(min=0, max=max_start, step=6, value=0))"
   ]
  },
  {
   "cell_type": "markdown",
   "metadata": {},
   "source": [
    "Aqui podemos ver que a variável Idade sozinha não explica muito sobre a produtividade."
   ]
  },
  {
   "cell_type": "markdown",
   "metadata": {},
   "source": [
    "##### Estatísticas Descritivas:"
   ]
  },
  {
   "cell_type": "code",
   "execution_count": 23,
   "metadata": {},
   "outputs": [
    {
     "data": {
      "text/html": [
       "<div>\n",
       "<style scoped>\n",
       "    .dataframe tbody tr th:only-of-type {\n",
       "        vertical-align: middle;\n",
       "    }\n",
       "\n",
       "    .dataframe tbody tr th {\n",
       "        vertical-align: top;\n",
       "    }\n",
       "\n",
       "    .dataframe thead th {\n",
       "        text-align: right;\n",
       "    }\n",
       "</style>\n",
       "<table border=\"1\" class=\"dataframe\">\n",
       "  <thead>\n",
       "    <tr style=\"text-align: right;\">\n",
       "      <th></th>\n",
       "      <th>count</th>\n",
       "      <th>mean</th>\n",
       "      <th>std</th>\n",
       "      <th>min</th>\n",
       "      <th>25%</th>\n",
       "      <th>50%</th>\n",
       "      <th>75%</th>\n",
       "      <th>max</th>\n",
       "    </tr>\n",
       "  </thead>\n",
       "  <tbody>\n",
       "    <tr>\n",
       "      <th>Altitude</th>\n",
       "      <td>1441.0</td>\n",
       "      <td>244.158917</td>\n",
       "      <td>78.154408</td>\n",
       "      <td>67.000000</td>\n",
       "      <td>197.000000</td>\n",
       "      <td>244.000000</td>\n",
       "      <td>300.000000</td>\n",
       "      <td>474.000000</td>\n",
       "    </tr>\n",
       "    <tr>\n",
       "      <th>Id Floresta</th>\n",
       "      <td>1441.0</td>\n",
       "      <td>6.722415</td>\n",
       "      <td>1.947499</td>\n",
       "      <td>2.600000</td>\n",
       "      <td>5.560000</td>\n",
       "      <td>6.100000</td>\n",
       "      <td>6.910000</td>\n",
       "      <td>15.860000</td>\n",
       "    </tr>\n",
       "    <tr>\n",
       "      <th>avg_vol/ha</th>\n",
       "      <td>1441.0</td>\n",
       "      <td>190.302744</td>\n",
       "      <td>111.835708</td>\n",
       "      <td>1.334904</td>\n",
       "      <td>141.845427</td>\n",
       "      <td>186.985071</td>\n",
       "      <td>225.389556</td>\n",
       "      <td>2220.746023</td>\n",
       "    </tr>\n",
       "  </tbody>\n",
       "</table>\n",
       "</div>"
      ],
      "text/plain": [
       "              count        mean         std        min         25%  \\\n",
       "Altitude     1441.0  244.158917   78.154408  67.000000  197.000000   \n",
       "Id Floresta  1441.0    6.722415    1.947499   2.600000    5.560000   \n",
       "avg_vol/ha   1441.0  190.302744  111.835708   1.334904  141.845427   \n",
       "\n",
       "                    50%         75%          max  \n",
       "Altitude     244.000000  300.000000   474.000000  \n",
       "Id Floresta    6.100000    6.910000    15.860000  \n",
       "avg_vol/ha   186.985071  225.389556  2220.746023  "
      ]
     },
     "execution_count": 23,
     "metadata": {},
     "output_type": "execute_result"
    }
   ],
   "source": [
    "df_prod.describe().T"
   ]
  },
  {
   "cell_type": "markdown",
   "metadata": {},
   "source": [
    "obs1.: A correlação será avaliada na etapa de pré-processamento, após aplicação de um encoder."
   ]
  },
  {
   "cell_type": "markdown",
   "metadata": {},
   "source": [
    "### Exportando dados para a etapa de pré-processamento\n"
   ]
  },
  {
   "cell_type": "code",
   "execution_count": 24,
   "metadata": {},
   "outputs": [
    {
     "data": {
      "text/plain": [
       "1441"
      ]
     },
     "execution_count": 24,
     "metadata": {},
     "output_type": "execute_result"
    }
   ],
   "source": [
    "from sqlalchemy import create_engine\n",
    "\n",
    "# Especificando o caminho onde o arquivo .db será salvo\n",
    "caminho_arquivo_db = '..\\\\data\\\\pre_processed\\\\pos_eda.db'\n",
    "\n",
    "# Criando a engine com o caminho relativo\n",
    "engine = create_engine(f'sqlite:///{caminho_arquivo_db}')\n",
    "\n",
    "# Criando o DB a partir dos dados\n",
    "df_prod.to_sql('df_prod', engine, if_exists='replace')"
   ]
  }
 ],
 "metadata": {
  "kernelspec": {
   "display_name": "venv",
   "language": "python",
   "name": "python3"
  },
  "language_info": {
   "codemirror_mode": {
    "name": "ipython",
    "version": 3
   },
   "file_extension": ".py",
   "mimetype": "text/x-python",
   "name": "python",
   "nbconvert_exporter": "python",
   "pygments_lexer": "ipython3",
   "version": "3.11.5"
  }
 },
 "nbformat": 4,
 "nbformat_minor": 2
}
