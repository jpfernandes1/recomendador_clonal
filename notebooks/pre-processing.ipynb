{
 "cells": [
  {
   "cell_type": "markdown",
   "metadata": {},
   "source": [
    "## <center> Pré-processamento"
   ]
  },
  {
   "cell_type": "markdown",
   "metadata": {},
   "source": [
    "### Importando Bibliotecas"
   ]
  },
  {
   "cell_type": "code",
   "execution_count": 1,
   "metadata": {},
   "outputs": [],
   "source": [
    "from sklearn.pipeline import Pipeline\n",
    "from sklearn import datasets\n",
    "from sklearn.model_selection import train_test_split   \n",
    "from category_encoders import OneHotEncoder\n",
    "from sklearn.preprocessing import StandardScaler\n",
    "from sklearn.tree import DecisionTreeClassifier\n",
    "import pandas as pd\n",
    "from sqlalchemy import create_engine"
   ]
  },
  {
   "cell_type": "code",
   "execution_count": 2,
   "metadata": {},
   "outputs": [
    {
     "data": {
      "text/plain": [
       "'c:\\\\Users\\\\JPCONCEICAO\\\\OneDrive - Suzano S A\\\\Coding\\\\PROJETO_RECOMENDADOR_CLONAL\\\\notebooks'"
      ]
     },
     "execution_count": 2,
     "metadata": {},
     "output_type": "execute_result"
    }
   ],
   "source": [
    "import os\n",
    "os.getcwd()"
   ]
  },
  {
   "cell_type": "code",
   "execution_count": 3,
   "metadata": {},
   "outputs": [],
   "source": [
    "# Importando funções locais\n",
    "import sys\n",
    "import os\n",
    "\n",
    "# Adiciona o caminho da pasta 'scripts' ao sys.path\n",
    "sys.path.append(os.path.abspath('../pipelines'))\n",
    "\n",
    "import pre_processor #Funções locais"
   ]
  },
  {
   "cell_type": "markdown",
   "metadata": {},
   "source": [
    "### Importando dados"
   ]
  },
  {
   "cell_type": "markdown",
   "metadata": {},
   "source": [
    "Listando as tabelas dentro do .db"
   ]
  },
  {
   "cell_type": "code",
   "execution_count": 4,
   "metadata": {},
   "outputs": [
    {
     "name": "stdout",
     "output_type": "stream",
     "text": [
      "df_prod\n"
     ]
    }
   ],
   "source": [
    "from sqlalchemy import create_engine, inspect\n",
    "\n",
    "# Localizando o banco de dados\n",
    "caminho_arquivo_db = '..\\\\data\\\\processed\\\\pos_eda.db'\n",
    "\n",
    "# Criando a engine\n",
    "engine = create_engine(f'sqlite:///{caminho_arquivo_db}')\n",
    "\n",
    "# Criando um inspetor\n",
    "inspetor = inspect(engine)\n",
    "\n",
    "# Listando os nomes das tabelas\n",
    "tabelas = inspetor.get_table_names()\n",
    "\n",
    "# Exibindo os nomes das tabelas\n",
    "for tabela in tabelas:\n",
    "    print(tabela)"
   ]
  },
  {
   "cell_type": "code",
   "execution_count": 5,
   "metadata": {},
   "outputs": [],
   "source": [
    "# Carregando as tabelas em DataFrames\n",
    "df = pd.read_sql_table('df_prod', con=engine)"
   ]
  },
  {
   "cell_type": "code",
   "execution_count": 6,
   "metadata": {},
   "outputs": [],
   "source": [
    "df.drop(columns=['index'], inplace=True)"
   ]
  },
  {
   "cell_type": "code",
   "execution_count": 7,
   "metadata": {},
   "outputs": [
    {
     "data": {
      "text/html": [
       "<div>\n",
       "<style scoped>\n",
       "    .dataframe tbody tr th:only-of-type {\n",
       "        vertical-align: middle;\n",
       "    }\n",
       "\n",
       "    .dataframe tbody tr th {\n",
       "        vertical-align: top;\n",
       "    }\n",
       "\n",
       "    .dataframe thead th {\n",
       "        text-align: right;\n",
       "    }\n",
       "</style>\n",
       "<table border=\"1\" class=\"dataframe\">\n",
       "  <thead>\n",
       "    <tr style=\"text-align: right;\">\n",
       "      <th></th>\n",
       "      <th>Volume</th>\n",
       "      <th>Região</th>\n",
       "      <th>Material Genético</th>\n",
       "      <th>Densidade</th>\n",
       "      <th>Altitude</th>\n",
       "      <th>Espaçamento</th>\n",
       "      <th>Id Floresta</th>\n",
       "      <th>Manejo Atual</th>\n",
       "      <th>Município</th>\n",
       "      <th>Zona Climática</th>\n",
       "      <th>(%) Mortas</th>\n",
       "      <th>(%) Falhas</th>\n",
       "      <th>avg_vol/ha</th>\n",
       "    </tr>\n",
       "  </thead>\n",
       "  <tbody>\n",
       "    <tr>\n",
       "      <th>0</th>\n",
       "      <td>3688.15</td>\n",
       "      <td>MA</td>\n",
       "      <td>SUZMA2019</td>\n",
       "      <td>495.66</td>\n",
       "      <td>212.0</td>\n",
       "      <td>INDEFINIDO</td>\n",
       "      <td>5.79</td>\n",
       "      <td>REFORMA</td>\n",
       "      <td>ESTREITO</td>\n",
       "      <td>M5</td>\n",
       "      <td>0.00</td>\n",
       "      <td>0.00</td>\n",
       "      <td>116.418876</td>\n",
       "    </tr>\n",
       "    <tr>\n",
       "      <th>1</th>\n",
       "      <td>5088.81</td>\n",
       "      <td>MA</td>\n",
       "      <td>SUZMA2019</td>\n",
       "      <td>496.07</td>\n",
       "      <td>208.0</td>\n",
       "      <td>300X330</td>\n",
       "      <td>5.70</td>\n",
       "      <td>CONDUÇÃO</td>\n",
       "      <td>ESTREITO</td>\n",
       "      <td>M5</td>\n",
       "      <td>0.00</td>\n",
       "      <td>0.00</td>\n",
       "      <td>99.761027</td>\n",
       "    </tr>\n",
       "    <tr>\n",
       "      <th>2</th>\n",
       "      <td>4404.00</td>\n",
       "      <td>MA</td>\n",
       "      <td>SUZMA2019</td>\n",
       "      <td>490.86</td>\n",
       "      <td>187.0</td>\n",
       "      <td>300X330</td>\n",
       "      <td>5.70</td>\n",
       "      <td>CONDUÇÃO</td>\n",
       "      <td>ESTREITO</td>\n",
       "      <td>M5</td>\n",
       "      <td>0.00</td>\n",
       "      <td>0.00</td>\n",
       "      <td>91.788245</td>\n",
       "    </tr>\n",
       "    <tr>\n",
       "      <th>3</th>\n",
       "      <td>4228.73</td>\n",
       "      <td>MA</td>\n",
       "      <td>SUZMA2019</td>\n",
       "      <td>513.60</td>\n",
       "      <td>218.0</td>\n",
       "      <td>300X330</td>\n",
       "      <td>5.02</td>\n",
       "      <td>CONDUÇÃO</td>\n",
       "      <td>ESTREITO</td>\n",
       "      <td>M5</td>\n",
       "      <td>0.04</td>\n",
       "      <td>0.00</td>\n",
       "      <td>121.690072</td>\n",
       "    </tr>\n",
       "    <tr>\n",
       "      <th>4</th>\n",
       "      <td>6490.57</td>\n",
       "      <td>MA</td>\n",
       "      <td>SUZMA2025</td>\n",
       "      <td>559.88</td>\n",
       "      <td>232.0</td>\n",
       "      <td>300X330</td>\n",
       "      <td>5.03</td>\n",
       "      <td>CONDUÇÃO</td>\n",
       "      <td>ESTREITO</td>\n",
       "      <td>M5</td>\n",
       "      <td>0.07</td>\n",
       "      <td>0.02</td>\n",
       "      <td>129.941341</td>\n",
       "    </tr>\n",
       "  </tbody>\n",
       "</table>\n",
       "</div>"
      ],
      "text/plain": [
       "    Volume Região Material Genético  Densidade  Altitude Espaçamento  \\\n",
       "0  3688.15     MA         SUZMA2019     495.66     212.0  INDEFINIDO   \n",
       "1  5088.81     MA         SUZMA2019     496.07     208.0     300X330   \n",
       "2  4404.00     MA         SUZMA2019     490.86     187.0     300X330   \n",
       "3  4228.73     MA         SUZMA2019     513.60     218.0     300X330   \n",
       "4  6490.57     MA         SUZMA2025     559.88     232.0     300X330   \n",
       "\n",
       "   Id Floresta Manejo Atual Município Zona Climática  (%) Mortas  (%) Falhas  \\\n",
       "0         5.79      REFORMA  ESTREITO             M5        0.00        0.00   \n",
       "1         5.70     CONDUÇÃO  ESTREITO             M5        0.00        0.00   \n",
       "2         5.70     CONDUÇÃO  ESTREITO             M5        0.00        0.00   \n",
       "3         5.02     CONDUÇÃO  ESTREITO             M5        0.04        0.00   \n",
       "4         5.03     CONDUÇÃO  ESTREITO             M5        0.07        0.02   \n",
       "\n",
       "   avg_vol/ha  \n",
       "0  116.418876  \n",
       "1   99.761027  \n",
       "2   91.788245  \n",
       "3  121.690072  \n",
       "4  129.941341  "
      ]
     },
     "execution_count": 7,
     "metadata": {},
     "output_type": "execute_result"
    }
   ],
   "source": [
    "df.head()"
   ]
  },
  {
   "cell_type": "markdown",
   "metadata": {},
   "source": [
    "Avaliando Cardinalidade das colunas com dados object"
   ]
  },
  {
   "cell_type": "code",
   "execution_count": 8,
   "metadata": {},
   "outputs": [
    {
     "name": "stdout",
     "output_type": "stream",
     "text": [
      "Coluna: Região\n",
      "Quantidade de valores únicos nessa coluna: 3\n",
      "Região\n",
      "MA    818\n",
      "PA    362\n",
      "TO    261\n",
      "Name: count, dtype: int64\n",
      "\n",
      "--------------------------------------------------\n",
      "\n",
      "Coluna: Material Genético\n",
      "Quantidade de valores únicos nessa coluna: 60\n",
      "Material Genético\n",
      "SUZMA2019    332\n",
      "SUZA0562     144\n",
      "AEC0144      136\n",
      "SUZA0385     117\n",
      "SUZA1250     111\n",
      "CO1355        71\n",
      "BA6021        57\n",
      "AEC1528       53\n",
      "SUZBA1922     43\n",
      "VCC975        37\n",
      "SUZA1253      35\n",
      "SUZA0217      33\n",
      "CO1407        32\n",
      "SUZA0407      32\n",
      "SUZA1265      23\n",
      "AEC0224       18\n",
      "PESQUISA      17\n",
      "SUZA1099      16\n",
      "VES0021       12\n",
      "SUZBA1083     11\n",
      "VE41          10\n",
      "SUZA1135       9\n",
      "AMC08          8\n",
      "CO1423         7\n",
      "SUZA1981       6\n",
      "SUZA1958       6\n",
      "SUZMA2025      5\n",
      "SUZSP1002      5\n",
      "VCC865         4\n",
      "IPB2           3\n",
      "VES0032        3\n",
      "SUZA1712       3\n",
      "CO0321         3\n",
      "GG100          3\n",
      "EUR            2\n",
      "SUZMA2037      2\n",
      "CO1404         2\n",
      "BA7340         2\n",
      "GER0680        2\n",
      "SUZMA2049      2\n",
      "SUZMA2022      2\n",
      "IPB1           2\n",
      "SUZA0540       2\n",
      "AEC0042        2\n",
      "QGS1445        1\n",
      "AEC0043        1\n",
      "MA3833         1\n",
      "QGS0149        1\n",
      "W762           1\n",
      "BHNPEL011      1\n",
      "SUZA1705       1\n",
      "QGS0155        1\n",
      "BHN0003        1\n",
      "EPE            1\n",
      "CO1277         1\n",
      "BHN1355        1\n",
      "FGCA0007       1\n",
      "CNB386         1\n",
      "AMC03          1\n",
      "SUZMA2003      1\n",
      "Name: count, dtype: int64\n",
      "\n",
      "--------------------------------------------------\n",
      "\n",
      "Coluna: Espaçamento\n",
      "Quantidade de valores únicos nessa coluna: 59\n",
      "Espaçamento\n",
      "300x300           286\n",
      "INDEFINIDO        191\n",
      "350x300           181\n",
      "300x270            92\n",
      "350X230            89\n",
      "330x270            73\n",
      "350x250            59\n",
      "300x280            56\n",
      "300X330            45\n",
      "300x250            39\n",
      "350x260            38\n",
      "330X260            33\n",
      "380x210            27\n",
      "330X240            23\n",
      "340x270            23\n",
      "400x300            16\n",
      "340X240            16\n",
      "340X320            15\n",
      "300x260            13\n",
      "380X235            11\n",
      "300X265            10\n",
      "340X260             8\n",
      "300x275             8\n",
      "300X240             6\n",
      "400x240             6\n",
      "320x380             6\n",
      "400X230             5\n",
      "270X300             5\n",
      "400x200             5\n",
      "350x315             4\n",
      "260X350             4\n",
      "340X265             4\n",
      "4(310x270)x620      3\n",
      "330X300             3\n",
      "370X230             3\n",
      "300X370             3\n",
      "350x220             2\n",
      "300x230             2\n",
      "400x260             2\n",
      "400x225             2\n",
      "350x270             2\n",
      "300X400             2\n",
      "350X290             2\n",
      "360x250             2\n",
      "350X240             2\n",
      "400x250             1\n",
      "380X240             1\n",
      "320X250             1\n",
      "330x230             1\n",
      "330x290             1\n",
      "500x200             1\n",
      "300X325             1\n",
      "4(330x195)660       1\n",
      "330X330             1\n",
      "210X300             1\n",
      "350X210             1\n",
      "360X300             1\n",
      "4(330x270)1500      1\n",
      "350x350             1\n",
      "Name: count, dtype: int64\n",
      "\n",
      "--------------------------------------------------\n",
      "\n",
      "Coluna: Manejo Atual\n",
      "Quantidade de valores únicos nessa coluna: 3\n",
      "Manejo Atual\n",
      "REFORMA        1159\n",
      "CONDUÇÃO        255\n",
      "IMPLANTAÇÃO      27\n",
      "Name: count, dtype: int64\n",
      "\n",
      "--------------------------------------------------\n",
      "\n",
      "Coluna: Município\n",
      "Quantidade de valores únicos nessa coluna: 26\n",
      "Município\n",
      "AÇAILÂNDIA                  362\n",
      "DOM ELISEU                  142\n",
      "CRIXÁS DO TOCANTINS         127\n",
      "ITINGA DO MARANHÃO           96\n",
      "ULIANÓPOLIS                  90\n",
      "PARAGOMINAS                  85\n",
      "BOM JARDIM                   81\n",
      "SÃO PEDRO DA ÁGUA BRANCA     59\n",
      "IMPERATRIZ                   58\n",
      "BREJINHO DE NAZARÉ           47\n",
      "VILA NOVA DOS MARTÍRIOS      46\n",
      "WANDERLÂNDIA                 44\n",
      "ESTREITO                     41\n",
      "SÃO FRANCISCO DO BREJÃO      29\n",
      "RONDON DO PARÁ               23\n",
      "NOVA ESPERANÇA DO PIRIÁ      18\n",
      "BOM JESUS DAS SELVAS         17\n",
      "PALMEIRAS DO TOCANTINS       15\n",
      "CIDELÂNDIA                   12\n",
      "ANGICO                       12\n",
      "PORTO NACIONAL               10\n",
      "SANTA LUZIA                   8\n",
      "JOÃO LISBOA                   7\n",
      "DARCINÓPOLIS                  6\n",
      "ABEL FIGUEIREDO               4\n",
      "SENADOR LA ROCQUE             2\n",
      "Name: count, dtype: int64\n",
      "\n",
      "--------------------------------------------------\n",
      "\n",
      "Coluna: Zona Climática\n",
      "Quantidade de valores únicos nessa coluna: 10\n",
      "Zona Climática\n",
      "M4    332\n",
      "M6    277\n",
      "SE    184\n",
      "M7    162\n",
      "M5    152\n",
      "M3    103\n",
      "M8     88\n",
      "M1     82\n",
      "M2     44\n",
      "M9     17\n",
      "Name: count, dtype: int64\n",
      "\n",
      "--------------------------------------------------\n",
      "\n"
     ]
    }
   ],
   "source": [
    "# Iterando sobre cada coluna do tipo 'object'\n",
    "for col in df.select_dtypes(include='object').columns:\n",
    "    print(f\"Coluna: {col}\")\n",
    "    print(f'Quantidade de valores únicos nessa coluna: {df[col].nunique()}')\n",
    "    print(df[col].value_counts())\n",
    "    print(\"\\n\" + \"-\"*50 + \"\\n\")\n"
   ]
  },
  {
   "cell_type": "markdown",
   "metadata": {},
   "source": [
    "Feature Engineering p.II"
   ]
  },
  {
   "cell_type": "code",
   "execution_count": 9,
   "metadata": {},
   "outputs": [],
   "source": [
    "# Transformando coluna de espaçamento para Nº de Arv/Ha\n",
    "# Considerações, caso haja erro, considerar a moda (espaçamento mais comum)\n",
    "pre_processor.calcular_arvores_por_ha(df, 'Espaçamento')"
   ]
  },
  {
   "cell_type": "code",
   "execution_count": 10,
   "metadata": {},
   "outputs": [
    {
     "data": {
      "text/html": [
       "<div>\n",
       "<style scoped>\n",
       "    .dataframe tbody tr th:only-of-type {\n",
       "        vertical-align: middle;\n",
       "    }\n",
       "\n",
       "    .dataframe tbody tr th {\n",
       "        vertical-align: top;\n",
       "    }\n",
       "\n",
       "    .dataframe thead th {\n",
       "        text-align: right;\n",
       "    }\n",
       "</style>\n",
       "<table border=\"1\" class=\"dataframe\">\n",
       "  <thead>\n",
       "    <tr style=\"text-align: right;\">\n",
       "      <th></th>\n",
       "      <th>Volume</th>\n",
       "      <th>Região</th>\n",
       "      <th>Material Genético</th>\n",
       "      <th>Densidade</th>\n",
       "      <th>Altitude</th>\n",
       "      <th>arv/ha</th>\n",
       "      <th>Id Floresta</th>\n",
       "      <th>Manejo Atual</th>\n",
       "      <th>Município</th>\n",
       "      <th>Zona Climática</th>\n",
       "      <th>(%) Mortas</th>\n",
       "      <th>(%) Falhas</th>\n",
       "      <th>avg_vol/ha</th>\n",
       "    </tr>\n",
       "  </thead>\n",
       "  <tbody>\n",
       "    <tr>\n",
       "      <th>0</th>\n",
       "      <td>3688.15</td>\n",
       "      <td>MA</td>\n",
       "      <td>SUZMA2019</td>\n",
       "      <td>495.66</td>\n",
       "      <td>212.0</td>\n",
       "      <td>1111</td>\n",
       "      <td>5.79</td>\n",
       "      <td>REFORMA</td>\n",
       "      <td>ESTREITO</td>\n",
       "      <td>M5</td>\n",
       "      <td>0.0</td>\n",
       "      <td>0.0</td>\n",
       "      <td>116.418876</td>\n",
       "    </tr>\n",
       "    <tr>\n",
       "      <th>1</th>\n",
       "      <td>5088.81</td>\n",
       "      <td>MA</td>\n",
       "      <td>SUZMA2019</td>\n",
       "      <td>496.07</td>\n",
       "      <td>208.0</td>\n",
       "      <td>1111</td>\n",
       "      <td>5.70</td>\n",
       "      <td>CONDUÇÃO</td>\n",
       "      <td>ESTREITO</td>\n",
       "      <td>M5</td>\n",
       "      <td>0.0</td>\n",
       "      <td>0.0</td>\n",
       "      <td>99.761027</td>\n",
       "    </tr>\n",
       "  </tbody>\n",
       "</table>\n",
       "</div>"
      ],
      "text/plain": [
       "    Volume Região Material Genético  Densidade  Altitude  arv/ha  Id Floresta  \\\n",
       "0  3688.15     MA         SUZMA2019     495.66     212.0    1111         5.79   \n",
       "1  5088.81     MA         SUZMA2019     496.07     208.0    1111         5.70   \n",
       "\n",
       "  Manejo Atual Município Zona Climática  (%) Mortas  (%) Falhas  avg_vol/ha  \n",
       "0      REFORMA  ESTREITO             M5         0.0         0.0  116.418876  \n",
       "1     CONDUÇÃO  ESTREITO             M5         0.0         0.0   99.761027  "
      ]
     },
     "execution_count": 10,
     "metadata": {},
     "output_type": "execute_result"
    }
   ],
   "source": [
    "df.head(2)"
   ]
  },
  {
   "cell_type": "markdown",
   "metadata": {},
   "source": [
    "Redução de cardinalidade"
   ]
  },
  {
   "cell_type": "code",
   "execution_count": 11,
   "metadata": {},
   "outputs": [],
   "source": [
    "# Aplicando a função para transformar em \"outro\" todos o valores que ocorrem < 10 vezes.\n",
    "train = pre_processor.substituir_valores_raros(df, limite=10, excluir_colunas=['Material Genético'])"
   ]
  },
  {
   "cell_type": "code",
   "execution_count": 12,
   "metadata": {},
   "outputs": [
    {
     "name": "stdout",
     "output_type": "stream",
     "text": [
      "Coluna: Região\n",
      "Quantidade de valores únicos nessa coluna: 3\n",
      "Região\n",
      "MA    818\n",
      "PA    362\n",
      "TO    261\n",
      "Name: count, dtype: int64\n",
      "\n",
      "--------------------------------------------------\n",
      "\n",
      "Coluna: Material Genético\n",
      "Quantidade de valores únicos nessa coluna: 60\n",
      "Material Genético\n",
      "SUZMA2019    332\n",
      "SUZA0562     144\n",
      "AEC0144      136\n",
      "SUZA0385     117\n",
      "SUZA1250     111\n",
      "CO1355        71\n",
      "BA6021        57\n",
      "AEC1528       53\n",
      "SUZBA1922     43\n",
      "VCC975        37\n",
      "SUZA1253      35\n",
      "SUZA0217      33\n",
      "CO1407        32\n",
      "SUZA0407      32\n",
      "SUZA1265      23\n",
      "AEC0224       18\n",
      "PESQUISA      17\n",
      "SUZA1099      16\n",
      "VES0021       12\n",
      "SUZBA1083     11\n",
      "VE41          10\n",
      "SUZA1135       9\n",
      "AMC08          8\n",
      "CO1423         7\n",
      "SUZA1981       6\n",
      "SUZA1958       6\n",
      "SUZMA2025      5\n",
      "SUZSP1002      5\n",
      "VCC865         4\n",
      "IPB2           3\n",
      "VES0032        3\n",
      "SUZA1712       3\n",
      "CO0321         3\n",
      "GG100          3\n",
      "EUR            2\n",
      "SUZMA2037      2\n",
      "CO1404         2\n",
      "BA7340         2\n",
      "GER0680        2\n",
      "SUZMA2049      2\n",
      "SUZMA2022      2\n",
      "IPB1           2\n",
      "SUZA0540       2\n",
      "AEC0042        2\n",
      "QGS1445        1\n",
      "AEC0043        1\n",
      "MA3833         1\n",
      "QGS0149        1\n",
      "W762           1\n",
      "BHNPEL011      1\n",
      "SUZA1705       1\n",
      "QGS0155        1\n",
      "BHN0003        1\n",
      "EPE            1\n",
      "CO1277         1\n",
      "BHN1355        1\n",
      "FGCA0007       1\n",
      "CNB386         1\n",
      "AMC03          1\n",
      "SUZMA2003      1\n",
      "Name: count, dtype: int64\n",
      "\n",
      "--------------------------------------------------\n",
      "\n",
      "Coluna: Manejo Atual\n",
      "Quantidade de valores únicos nessa coluna: 3\n",
      "Manejo Atual\n",
      "REFORMA        1159\n",
      "CONDUÇÃO        255\n",
      "IMPLANTAÇÃO      27\n",
      "Name: count, dtype: int64\n",
      "\n",
      "--------------------------------------------------\n",
      "\n",
      "Coluna: Município\n",
      "Quantidade de valores únicos nessa coluna: 22\n",
      "Município\n",
      "AÇAILÂNDIA                  362\n",
      "DOM ELISEU                  142\n",
      "CRIXÁS DO TOCANTINS         127\n",
      "ITINGA DO MARANHÃO           96\n",
      "ULIANÓPOLIS                  90\n",
      "PARAGOMINAS                  85\n",
      "BOM JARDIM                   81\n",
      "SÃO PEDRO DA ÁGUA BRANCA     59\n",
      "IMPERATRIZ                   58\n",
      "BREJINHO DE NAZARÉ           47\n",
      "VILA NOVA DOS MARTÍRIOS      46\n",
      "WANDERLÂNDIA                 44\n",
      "ESTREITO                     41\n",
      "SÃO FRANCISCO DO BREJÃO      29\n",
      "Outros                       27\n",
      "RONDON DO PARÁ               23\n",
      "NOVA ESPERANÇA DO PIRIÁ      18\n",
      "BOM JESUS DAS SELVAS         17\n",
      "PALMEIRAS DO TOCANTINS       15\n",
      "CIDELÂNDIA                   12\n",
      "ANGICO                       12\n",
      "PORTO NACIONAL               10\n",
      "Name: count, dtype: int64\n",
      "\n",
      "--------------------------------------------------\n",
      "\n",
      "Coluna: Zona Climática\n",
      "Quantidade de valores únicos nessa coluna: 10\n",
      "Zona Climática\n",
      "M4    332\n",
      "M6    277\n",
      "SE    184\n",
      "M7    162\n",
      "M5    152\n",
      "M3    103\n",
      "M8     88\n",
      "M1     82\n",
      "M2     44\n",
      "M9     17\n",
      "Name: count, dtype: int64\n",
      "\n",
      "--------------------------------------------------\n",
      "\n"
     ]
    }
   ],
   "source": [
    "# Iterando sobre cada coluna do tipo 'object'\n",
    "for col in df.select_dtypes(include='object').columns:\n",
    "    print(f\"Coluna: {col}\")\n",
    "    print(f'Quantidade de valores únicos nessa coluna: {df[col].nunique()}')\n",
    "    print(df[col].value_counts())\n",
    "    print(\"\\n\" + \"-\"*50 + \"\\n\")"
   ]
  },
  {
   "cell_type": "markdown",
   "metadata": {},
   "source": [
    "Aplicando Pipeline para Remover outliers, aplicar o StandardScaler e, por fim, o one hot encoder."
   ]
  },
  {
   "cell_type": "code",
   "execution_count": 20,
   "metadata": {},
   "outputs": [
    {
     "ename": "ImportError",
     "evalue": "cannot import name 'create_preprocessing_pipeline' from 'pre_processor' (c:\\Users\\JPCONCEICAO\\OneDrive - Suzano S A\\Coding\\PROJETO_RECOMENDADOR_CLONAL\\pipelines\\pre_processor.py)",
     "output_type": "error",
     "traceback": [
      "\u001b[1;31m---------------------------------------------------------------------------\u001b[0m",
      "\u001b[1;31mImportError\u001b[0m                               Traceback (most recent call last)",
      "Cell \u001b[1;32mIn[20], line 1\u001b[0m\n\u001b[1;32m----> 1\u001b[0m \u001b[38;5;28;01mfrom\u001b[39;00m \u001b[38;5;21;01mpre_processor\u001b[39;00m \u001b[38;5;28;01mimport\u001b[39;00m create_preprocessing_pipeline, apply_preprocessing\n",
      "\u001b[1;31mImportError\u001b[0m: cannot import name 'create_preprocessing_pipeline' from 'pre_processor' (c:\\Users\\JPCONCEICAO\\OneDrive - Suzano S A\\Coding\\PROJETO_RECOMENDADOR_CLONAL\\pipelines\\pre_processor.py)"
     ]
    }
   ],
   "source": [
    "from pre_processor import create_preprocessing_pipeline, apply_preprocessing"
   ]
  },
  {
   "cell_type": "code",
   "execution_count": null,
   "metadata": {},
   "outputs": [],
   "source": [
    "# Crie e aplique a pipeline de pré-processamento\n",
    "preprocessor = create_preprocessing_pipeline(df)\n",
    "df_processed = apply_preprocessing(preprocessor, df)"
   ]
  },
  {
   "cell_type": "markdown",
   "metadata": {
    "vscode": {
     "languageId": "plaintext"
    }
   },
   "source": [
    "#### Avaliação e Tratamento de Multicolinearidade: Identificação e possível remoção de variáveis altamente correlacionadas.\n",
    "\n"
   ]
  },
  {
   "cell_type": "markdown",
   "metadata": {},
   "source": [
    "Avaliar esse quesito é importante já que:\n",
    "- Dificulta a interpretação dos coeficientes;\n",
    "- Reduz a capacidade preditiva: Overfitting;\n",
    "- Atrapalha na identificação da influência individual de variáveis, pois 'dizem a mesma coisa' para o modelo;\n",
    "- Dentre outros problemas."
   ]
  },
  {
   "cell_type": "code",
   "execution_count": 13,
   "metadata": {},
   "outputs": [],
   "source": [
    "import seaborn as sns\n",
    "import matplotlib.pyplot as plt"
   ]
  },
  {
   "cell_type": "code",
   "execution_count": null,
   "metadata": {},
   "outputs": [],
   "source": [
    "# Função para filtrar e visualizar correlação\n",
    "def filtrar_e_visualizar_correlacao(df, threshold, drop_column = None):\n",
    "\n",
    "    # Calcula a matriz de correlação\n",
    "    corr = df.corr()\n",
    "    \n",
    "    # Aplica os filtros de limiar, excluindo a correlação perfeita\n",
    "    filtro = (abs(corr) >= threshold) & (corr != 1.0)\n",
    "    df_filtrado = corr.where(filtro).dropna(how = 'all').dropna(axis = 1, how = 'all')\n",
    "    \n",
    "    # Remove a coluna e linha especificada, se fornecido\n",
    "    if drop_column:\n",
    "        df_filtrado = df_filtrado.drop(index = drop_column, \n",
    "                                       errors = 'ignore').drop(columns = drop_column, \n",
    "                                                               errors = 'ignore')\n",
    "    \n",
    "    # Visualiza o resultado com um heatmap somente com as variáveis que satisfazem o critério de filtro\n",
    "    plt.figure()\n",
    "    sns.heatmap(df_filtrado, annot = True, cmap = 'coolwarm', center = 0)\n",
    "    plt.show()"
   ]
  },
  {
   "cell_type": "code",
   "execution_count": null,
   "metadata": {},
   "outputs": [
    {
     "data": {
      "image/png": "[encoded data removed]",
      "text/plain": [
       "<Figure size 640x480 with 2 Axes>"
      ]
     },
     "metadata": {},
     "output_type": "display_data"
    }
   ],
   "source": [
    "# Verificar quais variáveis podem apresentar multicolinearidade através da correlação - utilizaremos 0.6 como limiar\n",
    "filtrar_e_visualizar_correlacao(df_prod, threshold = 0.6, drop_column = None) # "
   ]
  },
  {
   "cell_type": "markdown",
   "metadata": {},
   "source": [
    "Fator de Inflação da Variância (VIF)"
   ]
  },
  {
   "cell_type": "code",
   "execution_count": null,
   "metadata": {},
   "outputs": [],
   "source": [
    "import pandas as pd\n",
    "import numpy as np\n",
    "from statsmodels.stats.outliers_influence import variance_inflation_factor\n",
    "from statsmodels.tools.tools import add_constant"
   ]
  },
  {
   "cell_type": "code",
   "execution_count": null,
   "metadata": {},
   "outputs": [
    {
     "name": "stdout",
     "output_type": "stream",
     "text": [
      "             Variable         VIF\n",
      "0               const  529.632489\n",
      "1                  UP    4.071559\n",
      "2              Volume    1.588160\n",
      "3              Região    8.820483\n",
      "4   Material Genético    1.320832\n",
      "5           Densidade    1.550562\n",
      "6            Altitude    3.596968\n",
      "7         Espaçamento    1.429388\n",
      "8         Id Floresta    4.417252\n",
      "9        Manejo Atual    1.548060\n",
      "10          Município    3.686391\n",
      "11     Zona Climática    4.150159\n",
      "12         (%) Mortas    1.494765\n",
      "13         (%) Falhas    1.958921\n",
      "14         avg_vol/ha    1.429556\n"
     ]
    }
   ],
   "source": [
    "# Adicionar uma constante (termo de interceptação) ao DataFrame\n",
    "df_with_constant = add_constant(df_prod)\n",
    "\n",
    "# Calcular o VIF para cada variável\n",
    "vif_data = pd.DataFrame()\n",
    "vif_data[\"Variable\"] = df_with_constant.columns\n",
    "vif_data[\"VIF\"] = [variance_inflation_factor(df_with_constant.values, i) for i in range(df_with_constant.shape[1])]\n",
    "\n",
    "# Exibir os resultados\n",
    "print(vif_data)"
   ]
  },
  {
   "cell_type": "markdown",
   "metadata": {},
   "source": [
    "Considerações:\n",
    "\n",
    "VIF ≈ 1: Nenhuma multicolinearidade <br>\n",
    "1 < VIF ≤ 5: Multicolinearidade moderada. <br>\n",
    "5 < VIF ≤ 10: Alta multicolinearidade. <br>\n",
    "VIF > 10: Multicolinearidade muito alta."
   ]
  },
  {
   "cell_type": "markdown",
   "metadata": {
    "vscode": {
     "languageId": "plaintext"
    }
   },
   "source": [
    "#### Balanceamento de Classes\n",
    "\n"
   ]
  },
  {
   "cell_type": "code",
   "execution_count": null,
   "metadata": {},
   "outputs": [
    {
     "data": {
      "text/plain": [
       "Material Genético\n",
       "SUZMA2019    67\n",
       "AEC0144      57\n",
       "SUZA1250     46\n",
       "SUZA0385     35\n",
       "VCC975       33\n",
       "CO1355       24\n",
       "SUZBA1922    21\n",
       "SUZA0562     20\n",
       "BA6021       19\n",
       "SUZA0407     16\n",
       "SUZA1099     11\n",
       "SUZA1253      9\n",
       "AEC1528       9\n",
       "SUZBA1083     9\n",
       "CO1407        8\n",
       "AEC0224       8\n",
       "SUZA1265      8\n",
       "VES0021       7\n",
       "CO1423        5\n",
       "SUZA1958      4\n",
       "PESQUISA      3\n",
       "VE41          3\n",
       "SUZA0217      3\n",
       "SUZA1712      2\n",
       "SUZA1981      2\n",
       "AMC08         2\n",
       "SUZA1135      2\n",
       "CO1404        2\n",
       "AMC03         1\n",
       "IPB1          1\n",
       "CNB386        1\n",
       "BA7340        1\n",
       "FGCA0007      1\n",
       "BHN1355       1\n",
       "QGS1445       1\n",
       "CO0321        1\n",
       "SUZMA2003     1\n",
       "Name: count, dtype: int64"
      ]
     },
     "metadata": {},
     "output_type": "display_data"
    }
   ],
   "source": [
    "# Verificar se os dados são desbalanceados\n",
    "df_prod['Material Genético'].value_counts()"
   ]
  },
  {
   "cell_type": "markdown",
   "metadata": {},
   "source": [
    "É possível identificar que há muitos exemplos de alguns materiais genéticos e poucos de outros. Isto irá enviesar o modelo e, mesmo que atinga uma boa acurácia, poderá apresentar valores ruins para precisão e recall."
   ]
  },
  {
   "cell_type": "code",
   "execution_count": null,
   "metadata": {},
   "outputs": [],
   "source": []
  },
  {
   "cell_type": "markdown",
   "metadata": {},
   "source": []
  }
 ],
 "metadata": {
  "kernelspec": {
   "display_name": "venv",
   "language": "python",
   "name": "python3"
  },
  "language_info": {
   "codemirror_mode": {
    "name": "ipython",
    "version": 3
   },
   "file_extension": ".py",
   "mimetype": "text/x-python",
   "name": "python",
   "nbconvert_exporter": "python",
   "pygments_lexer": "ipython3",
   "version": "3.11.5"
  }
 },
 "nbformat": 4,
 "nbformat_minor": 2
}
