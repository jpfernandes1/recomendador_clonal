{
 "cells": [
  {
   "cell_type": "markdown",
   "metadata": {},
   "source": [
    "## Projeto - Alocação Clonal"
   ]
  },
  {
   "cell_type": "markdown",
   "metadata": {},
   "source": [
    "Preparando ambiente - Instalando e importando bibliotecas necessárias"
   ]
  },
  {
   "cell_type": "code",
   "execution_count": 2,
   "metadata": {},
   "outputs": [],
   "source": [
    "# Importando funções locais\n",
    "import sys\n",
    "import os\n",
    "\n",
    "# Adiciona o caminho da pasta 'scripts' ao sys.path\n",
    "sys.path.append(os.path.abspath('../../pipelines'))\n",
    "\n",
    "import pre_processor #Funções locais"
   ]
  },
  {
   "cell_type": "markdown",
   "metadata": {},
   "source": [
    "### Treinando Modelo"
   ]
  },
  {
   "cell_type": "markdown",
   "metadata": {},
   "source": [
    "#### Aplicação de pipeline para: <br> \n",
    "\n",
    "- Tratamento de Outliers: Remoção\n",
    "- Encoding: Transformação de variáveis categóricas em numéricas\n",
    "- Escalonamento: Transformação para que as variáveis fiquem na mesma escala"
   ]
  },
  {
   "cell_type": "code",
   "execution_count": 4,
   "metadata": {},
   "outputs": [],
   "source": [
    "from pre_processor import train_and_evaluate"
   ]
  },
  {
   "cell_type": "code",
   "execution_count": 37,
   "metadata": {},
   "outputs": [],
   "source": [
    "# Bibliotecas\n",
    "import pandas as pd\n",
    "from sklearn.ensemble import RandomForestRegressor\n",
    "from sklearn.model_selection import train_test_split\n"
   ]
  },
  {
   "cell_type": "code",
   "execution_count": 3,
   "metadata": {},
   "outputs": [
    {
     "ename": "NameError",
     "evalue": "name 'train_and_evaluate' is not defined",
     "output_type": "error",
     "traceback": [
      "\u001b[1;31m---------------------------------------------------------------------------\u001b[0m",
      "\u001b[1;31mNameError\u001b[0m                                 Traceback (most recent call last)",
      "Cell \u001b[1;32mIn[3], line 2\u001b[0m\n\u001b[0;32m      1\u001b[0m \u001b[38;5;66;03m# Treinar e avaliar o modelo\u001b[39;00m\n\u001b[1;32m----> 2\u001b[0m mse, r2, pipeline \u001b[38;5;241m=\u001b[39m \u001b[43mtrain_and_evaluate\u001b[49m(X_train, X_test, y_train, y_test)\n",
      "\u001b[1;31mNameError\u001b[0m: name 'train_and_evaluate' is not defined"
     ]
    }
   ],
   "source": [
    "# Treinar e avaliar o modelo\n",
    "mse, r2, pipeline = train_and_evaluate(X_train, X_test, y_train, y_test)"
   ]
  },
  {
   "cell_type": "markdown",
   "metadata": {},
   "source": [
    "#### Métricas de validação"
   ]
  },
  {
   "cell_type": "code",
   "execution_count": null,
   "metadata": {},
   "outputs": [],
   "source": [
    "# Exibir os resultados\n",
    "print(f\"MSE: {mse}\")\n",
    "print(f\"R²: {r2}\")"
   ]
  },
  {
   "cell_type": "markdown",
   "metadata": {},
   "source": [
    "### Importância das features"
   ]
  },
  {
   "cell_type": "code",
   "execution_count": 41,
   "metadata": {},
   "outputs": [
    {
     "name": "stdout",
     "output_type": "stream",
     "text": [
      "           Feature  Importance\n",
      "4         Altitude    0.327279\n",
      "0               UP    0.151234\n",
      "3        Densidade    0.132865\n",
      "11      (%) Falhas    0.083518\n",
      "12      avg_vol/ha    0.076364\n",
      "6      Id Floresta    0.066908\n",
      "1           Volume    0.052718\n",
      "10      (%) Mortas    0.032952\n",
      "8        Município    0.023005\n",
      "5      Espaçamento    0.019844\n",
      "9   Zona Climática    0.017708\n",
      "7     Manejo Atual    0.012662\n",
      "2           Região    0.002943\n"
     ]
    }
   ],
   "source": [
    "\n",
    "importances = model.feature_importances_\n",
    "feature_importances = pd.DataFrame({'Feature': X.columns, 'Importance': importances})\n",
    "feature_importances = feature_importances.sort_values(by='Importance', ascending=False)\n",
    "print(feature_importances)"
   ]
  },
  {
   "cell_type": "markdown",
   "metadata": {},
   "source": [
    "**Correlação de Pearson/Spearman**: Para medir a relação entre variáveis contínuas."
   ]
  },
  {
   "cell_type": "markdown",
   "metadata": {},
   "source": [
    "**Análise de Variância (ANOVA)**: Para testar a diferença entre grupos categóricos."
   ]
  },
  {
   "cell_type": "markdown",
   "metadata": {},
   "source": [
    "**Random Forest**: Utilize a importância das features do Random Forest para identificar os parâmetros mais impactantes."
   ]
  },
  {
   "cell_type": "markdown",
   "metadata": {},
   "source": [
    "**Gradient Boosting (XGBoost/LightGBM)**: Outro método que fornece importância das features."
   ]
  },
  {
   "cell_type": "markdown",
   "metadata": {},
   "source": [
    "### Modelos de Machine Learning"
   ]
  },
  {
   "cell_type": "markdown",
   "metadata": {},
   "source": [
    "##### Regressão (Para prever a produtividade)"
   ]
  },
  {
   "cell_type": "markdown",
   "metadata": {},
   "source": [
    "Random Forest Regressor: Bom para capturar relações não lineares e interações entre variáveis."
   ]
  },
  {
   "cell_type": "markdown",
   "metadata": {},
   "source": [
    "Gradient Boosting Regressor (XGBoost/LightGBM): Eficiente para modelos complexos com bom desempenho preditivo."
   ]
  },
  {
   "cell_type": "markdown",
   "metadata": {},
   "source": [
    "##### Classificação (Para recomendar espécies)"
   ]
  },
  {
   "cell_type": "markdown",
   "metadata": {},
   "source": [
    "Random Forest Classifier: Classificador robusto para dados com múltiplas classes."
   ]
  },
  {
   "cell_type": "markdown",
   "metadata": {},
   "source": [
    "Gradient Boosting Classifier (XGBoost/LightGBM): Bom para classificações precisas e detalhadas."
   ]
  },
  {
   "cell_type": "markdown",
   "metadata": {},
   "source": [
    "### Recomendações e Ajustes"
   ]
  },
  {
   "cell_type": "markdown",
   "metadata": {},
   "source": [
    "**Validação Cruzada**: Use validação cruzada para garantir que os modelos são robustos."
   ]
  },
  {
   "cell_type": "markdown",
   "metadata": {},
   "source": [
    "**Hyperparameter Tuning**: Ajuste os hiperparâmetros dos modelos para melhorar o desempenho."
   ]
  },
  {
   "cell_type": "markdown",
   "metadata": {},
   "source": [
    "**Interpretação de Resultados**: Utilize técnicas como SHAP (Shapley Additive Explanations) para interpretar os resultados dos modelos e entender o impacto de cada variável nas previsões."
   ]
  },
  {
   "cell_type": "markdown",
   "metadata": {},
   "source": [
    "Criar coluna idade aprox. no momento do corte: (Data entrada-60 dias) - Inicio de plantio \n",
    "Criar coluna de TPC(transporte) - data de entrada - Data de corte"
   ]
  },
  {
   "cell_type": "code",
   "execution_count": null,
   "metadata": {},
   "outputs": [],
   "source": []
  },
  {
   "cell_type": "markdown",
   "metadata": {},
   "source": [
    "Questões\n",
    "\n",
    "1. Qual material genético produz mais? Há diferenças de acordo com a região?\n",
    "2. Há interferência do ciclo e rotação na volumetria considerando o material genético?\n",
    "3. Há relação entre a volumetria e a densidade considerando a mesma área?\n",
    "4. Que espécie se sai melhor em produtividade em cada região?\n",
    "5. Qual a variação de volume transportado ao longo do ano?\n",
    "6. O horário influencia no tempo de carga, permanência no pátio e descarga?\n",
    "7. A distância influencia muito no TPC?\n",
    "8. Há alguma correlação entre a densidade e o TPC?\n",
    "9. Há alguma correlação entre a espécie e o TPC?"
   ]
  },
  {
   "cell_type": "code",
   "execution_count": null,
   "metadata": {},
   "outputs": [],
   "source": []
  },
  {
   "cell_type": "markdown",
   "metadata": {},
   "source": [
    "Opções: Otimizador ou recomendador\n",
    "\n",
    "dicas:\n",
    "\n",
    "Agrupar em macro assuntos\n",
    "\n",
    "Possibilidades:\n",
    "\n",
    "Criação de painel de tomada de decisão"
   ]
  },
  {
   "cell_type": "code",
   "execution_count": null,
   "metadata": {},
   "outputs": [],
   "source": []
  },
  {
   "cell_type": "code",
   "execution_count": null,
   "metadata": {},
   "outputs": [],
   "source": []
  },
  {
   "cell_type": "markdown",
   "metadata": {},
   "source": [
    "Dados extras - Cadastro florestal, puxar o tamanho da UP."
   ]
  }
 ],
 "metadata": {
  "kernelspec": {
   "display_name": "venv",
   "language": "python",
   "name": "python3"
  },
  "language_info": {
   "codemirror_mode": {
    "name": "ipython",
    "version": 3
   },
   "file_extension": ".py",
   "mimetype": "text/x-python",
   "name": "python",
   "nbconvert_exporter": "python",
   "pygments_lexer": "ipython3",
   "version": "3.11.5"
  }
 },
 "nbformat": 4,
 "nbformat_minor": 2
}
